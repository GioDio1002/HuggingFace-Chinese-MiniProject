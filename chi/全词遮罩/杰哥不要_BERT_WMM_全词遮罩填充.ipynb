{
  "nbformat": 4,
  "nbformat_minor": 0,
  "metadata": {
    "colab": {
      "name": "杰哥不要-BERT-WMM-全词遮罩填充.ipynb",
      "provenance": [],
      "collapsed_sections": [],
      "mount_file_id": "12Pk5zqTH0peEmvan88SBueqGe05YC2yn",
      "authorship_tag": "ABX9TyO9xZV+WaKwv0kPwChabUQO",
      "include_colab_link": true
    },
    "kernelspec": {
      "name": "python3",
      "display_name": "Python 3"
    },
    "language_info": {
      "name": "python"
    },
    "widgets": {
      "application/vnd.jupyter.widget-state+json": {
        "5a5f84b5a1434c59b5151bca765f3200": {
          "model_module": "@jupyter-widgets/controls",
          "model_name": "HBoxModel",
          "state": {
            "_view_name": "HBoxView",
            "_dom_classes": [],
            "_model_name": "HBoxModel",
            "_view_module": "@jupyter-widgets/controls",
            "_model_module_version": "1.5.0",
            "_view_count": null,
            "_view_module_version": "1.5.0",
            "box_style": "",
            "layout": "IPY_MODEL_bbe0b296990e414e9867a355be82f272",
            "_model_module": "@jupyter-widgets/controls",
            "children": [
              "IPY_MODEL_348292732fe04cb68e9d9b3e82310d9c",
              "IPY_MODEL_f3dc8bea35284732b93143b901dfa439"
            ]
          }
        },
        "bbe0b296990e414e9867a355be82f272": {
          "model_module": "@jupyter-widgets/base",
          "model_name": "LayoutModel",
          "state": {
            "_view_name": "LayoutView",
            "grid_template_rows": null,
            "right": null,
            "justify_content": null,
            "_view_module": "@jupyter-widgets/base",
            "overflow": null,
            "_model_module_version": "1.2.0",
            "_view_count": null,
            "flex_flow": null,
            "width": null,
            "min_width": null,
            "border": null,
            "align_items": null,
            "bottom": null,
            "_model_module": "@jupyter-widgets/base",
            "top": null,
            "grid_column": null,
            "overflow_y": null,
            "overflow_x": null,
            "grid_auto_flow": null,
            "grid_area": null,
            "grid_template_columns": null,
            "flex": null,
            "_model_name": "LayoutModel",
            "justify_items": null,
            "grid_row": null,
            "max_height": null,
            "align_content": null,
            "visibility": null,
            "align_self": null,
            "height": null,
            "min_height": null,
            "padding": null,
            "grid_auto_rows": null,
            "grid_gap": null,
            "max_width": null,
            "order": null,
            "_view_module_version": "1.2.0",
            "grid_template_areas": null,
            "object_position": null,
            "object_fit": null,
            "grid_auto_columns": null,
            "margin": null,
            "display": null,
            "left": null
          }
        },
        "348292732fe04cb68e9d9b3e82310d9c": {
          "model_module": "@jupyter-widgets/controls",
          "model_name": "FloatProgressModel",
          "state": {
            "_view_name": "ProgressView",
            "style": "IPY_MODEL_78a1755d2a794253b5c9dc53784e7351",
            "_dom_classes": [],
            "description": "100%",
            "_model_name": "FloatProgressModel",
            "bar_style": "success",
            "max": 86,
            "_view_module": "@jupyter-widgets/controls",
            "_model_module_version": "1.5.0",
            "value": 86,
            "_view_count": null,
            "_view_module_version": "1.5.0",
            "orientation": "horizontal",
            "min": 0,
            "description_tooltip": null,
            "_model_module": "@jupyter-widgets/controls",
            "layout": "IPY_MODEL_b553a8e652b54438a991309a2bc44e6b"
          }
        },
        "f3dc8bea35284732b93143b901dfa439": {
          "model_module": "@jupyter-widgets/controls",
          "model_name": "HTMLModel",
          "state": {
            "_view_name": "HTMLView",
            "style": "IPY_MODEL_7ead16224596408cbc49059d5f8a338e",
            "_dom_classes": [],
            "description": "",
            "_model_name": "HTMLModel",
            "placeholder": "​",
            "_view_module": "@jupyter-widgets/controls",
            "_model_module_version": "1.5.0",
            "value": " 86/86 [28:16&lt;00:00, 19.72s/it]",
            "_view_count": null,
            "_view_module_version": "1.5.0",
            "description_tooltip": null,
            "_model_module": "@jupyter-widgets/controls",
            "layout": "IPY_MODEL_e98c7d30875f4a379ede2940181bc424"
          }
        },
        "78a1755d2a794253b5c9dc53784e7351": {
          "model_module": "@jupyter-widgets/controls",
          "model_name": "ProgressStyleModel",
          "state": {
            "_view_name": "StyleView",
            "_model_name": "ProgressStyleModel",
            "description_width": "initial",
            "_view_module": "@jupyter-widgets/base",
            "_model_module_version": "1.5.0",
            "_view_count": null,
            "_view_module_version": "1.2.0",
            "bar_color": null,
            "_model_module": "@jupyter-widgets/controls"
          }
        },
        "b553a8e652b54438a991309a2bc44e6b": {
          "model_module": "@jupyter-widgets/base",
          "model_name": "LayoutModel",
          "state": {
            "_view_name": "LayoutView",
            "grid_template_rows": null,
            "right": null,
            "justify_content": null,
            "_view_module": "@jupyter-widgets/base",
            "overflow": null,
            "_model_module_version": "1.2.0",
            "_view_count": null,
            "flex_flow": null,
            "width": null,
            "min_width": null,
            "border": null,
            "align_items": null,
            "bottom": null,
            "_model_module": "@jupyter-widgets/base",
            "top": null,
            "grid_column": null,
            "overflow_y": null,
            "overflow_x": null,
            "grid_auto_flow": null,
            "grid_area": null,
            "grid_template_columns": null,
            "flex": null,
            "_model_name": "LayoutModel",
            "justify_items": null,
            "grid_row": null,
            "max_height": null,
            "align_content": null,
            "visibility": null,
            "align_self": null,
            "height": null,
            "min_height": null,
            "padding": null,
            "grid_auto_rows": null,
            "grid_gap": null,
            "max_width": null,
            "order": null,
            "_view_module_version": "1.2.0",
            "grid_template_areas": null,
            "object_position": null,
            "object_fit": null,
            "grid_auto_columns": null,
            "margin": null,
            "display": null,
            "left": null
          }
        },
        "7ead16224596408cbc49059d5f8a338e": {
          "model_module": "@jupyter-widgets/controls",
          "model_name": "DescriptionStyleModel",
          "state": {
            "_view_name": "StyleView",
            "_model_name": "DescriptionStyleModel",
            "description_width": "",
            "_view_module": "@jupyter-widgets/base",
            "_model_module_version": "1.5.0",
            "_view_count": null,
            "_view_module_version": "1.2.0",
            "_model_module": "@jupyter-widgets/controls"
          }
        },
        "e98c7d30875f4a379ede2940181bc424": {
          "model_module": "@jupyter-widgets/base",
          "model_name": "LayoutModel",
          "state": {
            "_view_name": "LayoutView",
            "grid_template_rows": null,
            "right": null,
            "justify_content": null,
            "_view_module": "@jupyter-widgets/base",
            "overflow": null,
            "_model_module_version": "1.2.0",
            "_view_count": null,
            "flex_flow": null,
            "width": null,
            "min_width": null,
            "border": null,
            "align_items": null,
            "bottom": null,
            "_model_module": "@jupyter-widgets/base",
            "top": null,
            "grid_column": null,
            "overflow_y": null,
            "overflow_x": null,
            "grid_auto_flow": null,
            "grid_area": null,
            "grid_template_columns": null,
            "flex": null,
            "_model_name": "LayoutModel",
            "justify_items": null,
            "grid_row": null,
            "max_height": null,
            "align_content": null,
            "visibility": null,
            "align_self": null,
            "height": null,
            "min_height": null,
            "padding": null,
            "grid_auto_rows": null,
            "grid_gap": null,
            "max_width": null,
            "order": null,
            "_view_module_version": "1.2.0",
            "grid_template_areas": null,
            "object_position": null,
            "object_fit": null,
            "grid_auto_columns": null,
            "margin": null,
            "display": null,
            "left": null
          }
        },
        "08518b14ee4b4876b4f4df3df09d1b5c": {
          "model_module": "@jupyter-widgets/controls",
          "model_name": "HBoxModel",
          "state": {
            "_view_name": "HBoxView",
            "_dom_classes": [],
            "_model_name": "HBoxModel",
            "_view_module": "@jupyter-widgets/controls",
            "_model_module_version": "1.5.0",
            "_view_count": null,
            "_view_module_version": "1.5.0",
            "box_style": "",
            "layout": "IPY_MODEL_2ce80f22ec2c454e849a8774feddc281",
            "_model_module": "@jupyter-widgets/controls",
            "children": [
              "IPY_MODEL_6830a5f2fed6444dbab63ec5161799cc",
              "IPY_MODEL_7f745283cee74dd68062a064eb889f3d"
            ]
          }
        },
        "2ce80f22ec2c454e849a8774feddc281": {
          "model_module": "@jupyter-widgets/base",
          "model_name": "LayoutModel",
          "state": {
            "_view_name": "LayoutView",
            "grid_template_rows": null,
            "right": null,
            "justify_content": null,
            "_view_module": "@jupyter-widgets/base",
            "overflow": null,
            "_model_module_version": "1.2.0",
            "_view_count": null,
            "flex_flow": null,
            "width": null,
            "min_width": null,
            "border": null,
            "align_items": null,
            "bottom": null,
            "_model_module": "@jupyter-widgets/base",
            "top": null,
            "grid_column": null,
            "overflow_y": null,
            "overflow_x": null,
            "grid_auto_flow": null,
            "grid_area": null,
            "grid_template_columns": null,
            "flex": null,
            "_model_name": "LayoutModel",
            "justify_items": null,
            "grid_row": null,
            "max_height": null,
            "align_content": null,
            "visibility": null,
            "align_self": null,
            "height": null,
            "min_height": null,
            "padding": null,
            "grid_auto_rows": null,
            "grid_gap": null,
            "max_width": null,
            "order": null,
            "_view_module_version": "1.2.0",
            "grid_template_areas": null,
            "object_position": null,
            "object_fit": null,
            "grid_auto_columns": null,
            "margin": null,
            "display": null,
            "left": null
          }
        },
        "6830a5f2fed6444dbab63ec5161799cc": {
          "model_module": "@jupyter-widgets/controls",
          "model_name": "FloatProgressModel",
          "state": {
            "_view_name": "ProgressView",
            "style": "IPY_MODEL_0d174c7488934bed81959d809e38c825",
            "_dom_classes": [],
            "description": "100%",
            "_model_name": "FloatProgressModel",
            "bar_style": "success",
            "max": 86,
            "_view_module": "@jupyter-widgets/controls",
            "_model_module_version": "1.5.0",
            "value": 86,
            "_view_count": null,
            "_view_module_version": "1.5.0",
            "orientation": "horizontal",
            "min": 0,
            "description_tooltip": null,
            "_model_module": "@jupyter-widgets/controls",
            "layout": "IPY_MODEL_c56eb38b94ea45fa96c4b12b278e1312"
          }
        },
        "7f745283cee74dd68062a064eb889f3d": {
          "model_module": "@jupyter-widgets/controls",
          "model_name": "HTMLModel",
          "state": {
            "_view_name": "HTMLView",
            "style": "IPY_MODEL_f3509a22de0a4151a82cb25e0562239a",
            "_dom_classes": [],
            "description": "",
            "_model_name": "HTMLModel",
            "placeholder": "​",
            "_view_module": "@jupyter-widgets/controls",
            "_model_module_version": "1.5.0",
            "value": " 86/86 [27:55&lt;00:00, 19.49s/it]",
            "_view_count": null,
            "_view_module_version": "1.5.0",
            "description_tooltip": null,
            "_model_module": "@jupyter-widgets/controls",
            "layout": "IPY_MODEL_cc0f4d445c9f46109c64dfbc292d393e"
          }
        },
        "0d174c7488934bed81959d809e38c825": {
          "model_module": "@jupyter-widgets/controls",
          "model_name": "ProgressStyleModel",
          "state": {
            "_view_name": "StyleView",
            "_model_name": "ProgressStyleModel",
            "description_width": "initial",
            "_view_module": "@jupyter-widgets/base",
            "_model_module_version": "1.5.0",
            "_view_count": null,
            "_view_module_version": "1.2.0",
            "bar_color": null,
            "_model_module": "@jupyter-widgets/controls"
          }
        },
        "c56eb38b94ea45fa96c4b12b278e1312": {
          "model_module": "@jupyter-widgets/base",
          "model_name": "LayoutModel",
          "state": {
            "_view_name": "LayoutView",
            "grid_template_rows": null,
            "right": null,
            "justify_content": null,
            "_view_module": "@jupyter-widgets/base",
            "overflow": null,
            "_model_module_version": "1.2.0",
            "_view_count": null,
            "flex_flow": null,
            "width": null,
            "min_width": null,
            "border": null,
            "align_items": null,
            "bottom": null,
            "_model_module": "@jupyter-widgets/base",
            "top": null,
            "grid_column": null,
            "overflow_y": null,
            "overflow_x": null,
            "grid_auto_flow": null,
            "grid_area": null,
            "grid_template_columns": null,
            "flex": null,
            "_model_name": "LayoutModel",
            "justify_items": null,
            "grid_row": null,
            "max_height": null,
            "align_content": null,
            "visibility": null,
            "align_self": null,
            "height": null,
            "min_height": null,
            "padding": null,
            "grid_auto_rows": null,
            "grid_gap": null,
            "max_width": null,
            "order": null,
            "_view_module_version": "1.2.0",
            "grid_template_areas": null,
            "object_position": null,
            "object_fit": null,
            "grid_auto_columns": null,
            "margin": null,
            "display": null,
            "left": null
          }
        },
        "f3509a22de0a4151a82cb25e0562239a": {
          "model_module": "@jupyter-widgets/controls",
          "model_name": "DescriptionStyleModel",
          "state": {
            "_view_name": "StyleView",
            "_model_name": "DescriptionStyleModel",
            "description_width": "",
            "_view_module": "@jupyter-widgets/base",
            "_model_module_version": "1.5.0",
            "_view_count": null,
            "_view_module_version": "1.2.0",
            "_model_module": "@jupyter-widgets/controls"
          }
        },
        "cc0f4d445c9f46109c64dfbc292d393e": {
          "model_module": "@jupyter-widgets/base",
          "model_name": "LayoutModel",
          "state": {
            "_view_name": "LayoutView",
            "grid_template_rows": null,
            "right": null,
            "justify_content": null,
            "_view_module": "@jupyter-widgets/base",
            "overflow": null,
            "_model_module_version": "1.2.0",
            "_view_count": null,
            "flex_flow": null,
            "width": null,
            "min_width": null,
            "border": null,
            "align_items": null,
            "bottom": null,
            "_model_module": "@jupyter-widgets/base",
            "top": null,
            "grid_column": null,
            "overflow_y": null,
            "overflow_x": null,
            "grid_auto_flow": null,
            "grid_area": null,
            "grid_template_columns": null,
            "flex": null,
            "_model_name": "LayoutModel",
            "justify_items": null,
            "grid_row": null,
            "max_height": null,
            "align_content": null,
            "visibility": null,
            "align_self": null,
            "height": null,
            "min_height": null,
            "padding": null,
            "grid_auto_rows": null,
            "grid_gap": null,
            "max_width": null,
            "order": null,
            "_view_module_version": "1.2.0",
            "grid_template_areas": null,
            "object_position": null,
            "object_fit": null,
            "grid_auto_columns": null,
            "margin": null,
            "display": null,
            "left": null
          }
        },
        "522a6835bdac49e3a2e1de4b3dd72fdd": {
          "model_module": "@jupyter-widgets/controls",
          "model_name": "HBoxModel",
          "state": {
            "_view_name": "HBoxView",
            "_dom_classes": [],
            "_model_name": "HBoxModel",
            "_view_module": "@jupyter-widgets/controls",
            "_model_module_version": "1.5.0",
            "_view_count": null,
            "_view_module_version": "1.5.0",
            "box_style": "",
            "layout": "IPY_MODEL_3dbe1121560d4c8584d8d1a4068da50f",
            "_model_module": "@jupyter-widgets/controls",
            "children": [
              "IPY_MODEL_57cafa67cea649b9bd25a1b89b02024d",
              "IPY_MODEL_ba7ae9f190264f4ba82745824eed8ffa"
            ]
          }
        },
        "3dbe1121560d4c8584d8d1a4068da50f": {
          "model_module": "@jupyter-widgets/base",
          "model_name": "LayoutModel",
          "state": {
            "_view_name": "LayoutView",
            "grid_template_rows": null,
            "right": null,
            "justify_content": null,
            "_view_module": "@jupyter-widgets/base",
            "overflow": null,
            "_model_module_version": "1.2.0",
            "_view_count": null,
            "flex_flow": null,
            "width": null,
            "min_width": null,
            "border": null,
            "align_items": null,
            "bottom": null,
            "_model_module": "@jupyter-widgets/base",
            "top": null,
            "grid_column": null,
            "overflow_y": null,
            "overflow_x": null,
            "grid_auto_flow": null,
            "grid_area": null,
            "grid_template_columns": null,
            "flex": null,
            "_model_name": "LayoutModel",
            "justify_items": null,
            "grid_row": null,
            "max_height": null,
            "align_content": null,
            "visibility": null,
            "align_self": null,
            "height": null,
            "min_height": null,
            "padding": null,
            "grid_auto_rows": null,
            "grid_gap": null,
            "max_width": null,
            "order": null,
            "_view_module_version": "1.2.0",
            "grid_template_areas": null,
            "object_position": null,
            "object_fit": null,
            "grid_auto_columns": null,
            "margin": null,
            "display": null,
            "left": null
          }
        },
        "57cafa67cea649b9bd25a1b89b02024d": {
          "model_module": "@jupyter-widgets/controls",
          "model_name": "FloatProgressModel",
          "state": {
            "_view_name": "ProgressView",
            "style": "IPY_MODEL_a3d8fde1115342198ec563a459ed76cc",
            "_dom_classes": [],
            "description": "100%",
            "_model_name": "FloatProgressModel",
            "bar_style": "success",
            "max": 86,
            "_view_module": "@jupyter-widgets/controls",
            "_model_module_version": "1.5.0",
            "value": 86,
            "_view_count": null,
            "_view_module_version": "1.5.0",
            "orientation": "horizontal",
            "min": 0,
            "description_tooltip": null,
            "_model_module": "@jupyter-widgets/controls",
            "layout": "IPY_MODEL_323845beef89482c998e78d05564d6d3"
          }
        },
        "ba7ae9f190264f4ba82745824eed8ffa": {
          "model_module": "@jupyter-widgets/controls",
          "model_name": "HTMLModel",
          "state": {
            "_view_name": "HTMLView",
            "style": "IPY_MODEL_db2d223bb5a848218f01d1f0b5a8e303",
            "_dom_classes": [],
            "description": "",
            "_model_name": "HTMLModel",
            "placeholder": "​",
            "_view_module": "@jupyter-widgets/controls",
            "_model_module_version": "1.5.0",
            "value": " 86/86 [27:37&lt;00:00, 19.27s/it]",
            "_view_count": null,
            "_view_module_version": "1.5.0",
            "description_tooltip": null,
            "_model_module": "@jupyter-widgets/controls",
            "layout": "IPY_MODEL_1278f09b3a9345408f96d1f16a7c8f36"
          }
        },
        "a3d8fde1115342198ec563a459ed76cc": {
          "model_module": "@jupyter-widgets/controls",
          "model_name": "ProgressStyleModel",
          "state": {
            "_view_name": "StyleView",
            "_model_name": "ProgressStyleModel",
            "description_width": "initial",
            "_view_module": "@jupyter-widgets/base",
            "_model_module_version": "1.5.0",
            "_view_count": null,
            "_view_module_version": "1.2.0",
            "bar_color": null,
            "_model_module": "@jupyter-widgets/controls"
          }
        },
        "323845beef89482c998e78d05564d6d3": {
          "model_module": "@jupyter-widgets/base",
          "model_name": "LayoutModel",
          "state": {
            "_view_name": "LayoutView",
            "grid_template_rows": null,
            "right": null,
            "justify_content": null,
            "_view_module": "@jupyter-widgets/base",
            "overflow": null,
            "_model_module_version": "1.2.0",
            "_view_count": null,
            "flex_flow": null,
            "width": null,
            "min_width": null,
            "border": null,
            "align_items": null,
            "bottom": null,
            "_model_module": "@jupyter-widgets/base",
            "top": null,
            "grid_column": null,
            "overflow_y": null,
            "overflow_x": null,
            "grid_auto_flow": null,
            "grid_area": null,
            "grid_template_columns": null,
            "flex": null,
            "_model_name": "LayoutModel",
            "justify_items": null,
            "grid_row": null,
            "max_height": null,
            "align_content": null,
            "visibility": null,
            "align_self": null,
            "height": null,
            "min_height": null,
            "padding": null,
            "grid_auto_rows": null,
            "grid_gap": null,
            "max_width": null,
            "order": null,
            "_view_module_version": "1.2.0",
            "grid_template_areas": null,
            "object_position": null,
            "object_fit": null,
            "grid_auto_columns": null,
            "margin": null,
            "display": null,
            "left": null
          }
        },
        "db2d223bb5a848218f01d1f0b5a8e303": {
          "model_module": "@jupyter-widgets/controls",
          "model_name": "DescriptionStyleModel",
          "state": {
            "_view_name": "StyleView",
            "_model_name": "DescriptionStyleModel",
            "description_width": "",
            "_view_module": "@jupyter-widgets/base",
            "_model_module_version": "1.5.0",
            "_view_count": null,
            "_view_module_version": "1.2.0",
            "_model_module": "@jupyter-widgets/controls"
          }
        },
        "1278f09b3a9345408f96d1f16a7c8f36": {
          "model_module": "@jupyter-widgets/base",
          "model_name": "LayoutModel",
          "state": {
            "_view_name": "LayoutView",
            "grid_template_rows": null,
            "right": null,
            "justify_content": null,
            "_view_module": "@jupyter-widgets/base",
            "overflow": null,
            "_model_module_version": "1.2.0",
            "_view_count": null,
            "flex_flow": null,
            "width": null,
            "min_width": null,
            "border": null,
            "align_items": null,
            "bottom": null,
            "_model_module": "@jupyter-widgets/base",
            "top": null,
            "grid_column": null,
            "overflow_y": null,
            "overflow_x": null,
            "grid_auto_flow": null,
            "grid_area": null,
            "grid_template_columns": null,
            "flex": null,
            "_model_name": "LayoutModel",
            "justify_items": null,
            "grid_row": null,
            "max_height": null,
            "align_content": null,
            "visibility": null,
            "align_self": null,
            "height": null,
            "min_height": null,
            "padding": null,
            "grid_auto_rows": null,
            "grid_gap": null,
            "max_width": null,
            "order": null,
            "_view_module_version": "1.2.0",
            "grid_template_areas": null,
            "object_position": null,
            "object_fit": null,
            "grid_auto_columns": null,
            "margin": null,
            "display": null,
            "left": null
          }
        },
        "ce78932a5a5c4f7ba3441a78188c4eda": {
          "model_module": "@jupyter-widgets/controls",
          "model_name": "HBoxModel",
          "state": {
            "_view_name": "HBoxView",
            "_dom_classes": [],
            "_model_name": "HBoxModel",
            "_view_module": "@jupyter-widgets/controls",
            "_model_module_version": "1.5.0",
            "_view_count": null,
            "_view_module_version": "1.5.0",
            "box_style": "",
            "layout": "IPY_MODEL_0f8ee07ee8e140fab6fb3cff3ac99587",
            "_model_module": "@jupyter-widgets/controls",
            "children": [
              "IPY_MODEL_544ea066960247a09562f7a4867df257",
              "IPY_MODEL_8b14020528cf4233b8f58d9e7820bbc0"
            ]
          }
        },
        "0f8ee07ee8e140fab6fb3cff3ac99587": {
          "model_module": "@jupyter-widgets/base",
          "model_name": "LayoutModel",
          "state": {
            "_view_name": "LayoutView",
            "grid_template_rows": null,
            "right": null,
            "justify_content": null,
            "_view_module": "@jupyter-widgets/base",
            "overflow": null,
            "_model_module_version": "1.2.0",
            "_view_count": null,
            "flex_flow": null,
            "width": null,
            "min_width": null,
            "border": null,
            "align_items": null,
            "bottom": null,
            "_model_module": "@jupyter-widgets/base",
            "top": null,
            "grid_column": null,
            "overflow_y": null,
            "overflow_x": null,
            "grid_auto_flow": null,
            "grid_area": null,
            "grid_template_columns": null,
            "flex": null,
            "_model_name": "LayoutModel",
            "justify_items": null,
            "grid_row": null,
            "max_height": null,
            "align_content": null,
            "visibility": null,
            "align_self": null,
            "height": null,
            "min_height": null,
            "padding": null,
            "grid_auto_rows": null,
            "grid_gap": null,
            "max_width": null,
            "order": null,
            "_view_module_version": "1.2.0",
            "grid_template_areas": null,
            "object_position": null,
            "object_fit": null,
            "grid_auto_columns": null,
            "margin": null,
            "display": null,
            "left": null
          }
        },
        "544ea066960247a09562f7a4867df257": {
          "model_module": "@jupyter-widgets/controls",
          "model_name": "FloatProgressModel",
          "state": {
            "_view_name": "ProgressView",
            "style": "IPY_MODEL_b7e80d4f6ec8423589a3e7ddec663217",
            "_dom_classes": [],
            "description": "100%",
            "_model_name": "FloatProgressModel",
            "bar_style": "success",
            "max": 86,
            "_view_module": "@jupyter-widgets/controls",
            "_model_module_version": "1.5.0",
            "value": 86,
            "_view_count": null,
            "_view_module_version": "1.5.0",
            "orientation": "horizontal",
            "min": 0,
            "description_tooltip": null,
            "_model_module": "@jupyter-widgets/controls",
            "layout": "IPY_MODEL_7ffa6e25415d481e8a65fdb5a4ce4ba2"
          }
        },
        "8b14020528cf4233b8f58d9e7820bbc0": {
          "model_module": "@jupyter-widgets/controls",
          "model_name": "HTMLModel",
          "state": {
            "_view_name": "HTMLView",
            "style": "IPY_MODEL_932c3920b1a048f5bd845594a671ed28",
            "_dom_classes": [],
            "description": "",
            "_model_name": "HTMLModel",
            "placeholder": "​",
            "_view_module": "@jupyter-widgets/controls",
            "_model_module_version": "1.5.0",
            "value": " 86/86 [02:23&lt;00:00,  1.67s/it]",
            "_view_count": null,
            "_view_module_version": "1.5.0",
            "description_tooltip": null,
            "_model_module": "@jupyter-widgets/controls",
            "layout": "IPY_MODEL_199b3b20f002422eb361ba284c6cb4e4"
          }
        },
        "b7e80d4f6ec8423589a3e7ddec663217": {
          "model_module": "@jupyter-widgets/controls",
          "model_name": "ProgressStyleModel",
          "state": {
            "_view_name": "StyleView",
            "_model_name": "ProgressStyleModel",
            "description_width": "initial",
            "_view_module": "@jupyter-widgets/base",
            "_model_module_version": "1.5.0",
            "_view_count": null,
            "_view_module_version": "1.2.0",
            "bar_color": null,
            "_model_module": "@jupyter-widgets/controls"
          }
        },
        "7ffa6e25415d481e8a65fdb5a4ce4ba2": {
          "model_module": "@jupyter-widgets/base",
          "model_name": "LayoutModel",
          "state": {
            "_view_name": "LayoutView",
            "grid_template_rows": null,
            "right": null,
            "justify_content": null,
            "_view_module": "@jupyter-widgets/base",
            "overflow": null,
            "_model_module_version": "1.2.0",
            "_view_count": null,
            "flex_flow": null,
            "width": null,
            "min_width": null,
            "border": null,
            "align_items": null,
            "bottom": null,
            "_model_module": "@jupyter-widgets/base",
            "top": null,
            "grid_column": null,
            "overflow_y": null,
            "overflow_x": null,
            "grid_auto_flow": null,
            "grid_area": null,
            "grid_template_columns": null,
            "flex": null,
            "_model_name": "LayoutModel",
            "justify_items": null,
            "grid_row": null,
            "max_height": null,
            "align_content": null,
            "visibility": null,
            "align_self": null,
            "height": null,
            "min_height": null,
            "padding": null,
            "grid_auto_rows": null,
            "grid_gap": null,
            "max_width": null,
            "order": null,
            "_view_module_version": "1.2.0",
            "grid_template_areas": null,
            "object_position": null,
            "object_fit": null,
            "grid_auto_columns": null,
            "margin": null,
            "display": null,
            "left": null
          }
        },
        "932c3920b1a048f5bd845594a671ed28": {
          "model_module": "@jupyter-widgets/controls",
          "model_name": "DescriptionStyleModel",
          "state": {
            "_view_name": "StyleView",
            "_model_name": "DescriptionStyleModel",
            "description_width": "",
            "_view_module": "@jupyter-widgets/base",
            "_model_module_version": "1.5.0",
            "_view_count": null,
            "_view_module_version": "1.2.0",
            "_model_module": "@jupyter-widgets/controls"
          }
        },
        "199b3b20f002422eb361ba284c6cb4e4": {
          "model_module": "@jupyter-widgets/base",
          "model_name": "LayoutModel",
          "state": {
            "_view_name": "LayoutView",
            "grid_template_rows": null,
            "right": null,
            "justify_content": null,
            "_view_module": "@jupyter-widgets/base",
            "overflow": null,
            "_model_module_version": "1.2.0",
            "_view_count": null,
            "flex_flow": null,
            "width": null,
            "min_width": null,
            "border": null,
            "align_items": null,
            "bottom": null,
            "_model_module": "@jupyter-widgets/base",
            "top": null,
            "grid_column": null,
            "overflow_y": null,
            "overflow_x": null,
            "grid_auto_flow": null,
            "grid_area": null,
            "grid_template_columns": null,
            "flex": null,
            "_model_name": "LayoutModel",
            "justify_items": null,
            "grid_row": null,
            "max_height": null,
            "align_content": null,
            "visibility": null,
            "align_self": null,
            "height": null,
            "min_height": null,
            "padding": null,
            "grid_auto_rows": null,
            "grid_gap": null,
            "max_width": null,
            "order": null,
            "_view_module_version": "1.2.0",
            "grid_template_areas": null,
            "object_position": null,
            "object_fit": null,
            "grid_auto_columns": null,
            "margin": null,
            "display": null,
            "left": null
          }
        },
        "d2baa83ccda34efd8d54148743fca816": {
          "model_module": "@jupyter-widgets/controls",
          "model_name": "HBoxModel",
          "state": {
            "_view_name": "HBoxView",
            "_dom_classes": [],
            "_model_name": "HBoxModel",
            "_view_module": "@jupyter-widgets/controls",
            "_model_module_version": "1.5.0",
            "_view_count": null,
            "_view_module_version": "1.5.0",
            "box_style": "",
            "layout": "IPY_MODEL_4d2e378e91ed47da9f81b1edb7ddf8c4",
            "_model_module": "@jupyter-widgets/controls",
            "children": [
              "IPY_MODEL_a06a8054b12542e4b32a6a92ced1fb14",
              "IPY_MODEL_f66bbf22b852436eb108af64009d654c"
            ]
          }
        },
        "4d2e378e91ed47da9f81b1edb7ddf8c4": {
          "model_module": "@jupyter-widgets/base",
          "model_name": "LayoutModel",
          "state": {
            "_view_name": "LayoutView",
            "grid_template_rows": null,
            "right": null,
            "justify_content": null,
            "_view_module": "@jupyter-widgets/base",
            "overflow": null,
            "_model_module_version": "1.2.0",
            "_view_count": null,
            "flex_flow": null,
            "width": null,
            "min_width": null,
            "border": null,
            "align_items": null,
            "bottom": null,
            "_model_module": "@jupyter-widgets/base",
            "top": null,
            "grid_column": null,
            "overflow_y": null,
            "overflow_x": null,
            "grid_auto_flow": null,
            "grid_area": null,
            "grid_template_columns": null,
            "flex": null,
            "_model_name": "LayoutModel",
            "justify_items": null,
            "grid_row": null,
            "max_height": null,
            "align_content": null,
            "visibility": null,
            "align_self": null,
            "height": null,
            "min_height": null,
            "padding": null,
            "grid_auto_rows": null,
            "grid_gap": null,
            "max_width": null,
            "order": null,
            "_view_module_version": "1.2.0",
            "grid_template_areas": null,
            "object_position": null,
            "object_fit": null,
            "grid_auto_columns": null,
            "margin": null,
            "display": null,
            "left": null
          }
        },
        "a06a8054b12542e4b32a6a92ced1fb14": {
          "model_module": "@jupyter-widgets/controls",
          "model_name": "FloatProgressModel",
          "state": {
            "_view_name": "ProgressView",
            "style": "IPY_MODEL_94dacb0909da48ba84bae283f2d132db",
            "_dom_classes": [],
            "description": "100%",
            "_model_name": "FloatProgressModel",
            "bar_style": "success",
            "max": 86,
            "_view_module": "@jupyter-widgets/controls",
            "_model_module_version": "1.5.0",
            "value": 86,
            "_view_count": null,
            "_view_module_version": "1.5.0",
            "orientation": "horizontal",
            "min": 0,
            "description_tooltip": null,
            "_model_module": "@jupyter-widgets/controls",
            "layout": "IPY_MODEL_4ab57be2547b41a2ad636f5907e7c2a1"
          }
        },
        "f66bbf22b852436eb108af64009d654c": {
          "model_module": "@jupyter-widgets/controls",
          "model_name": "HTMLModel",
          "state": {
            "_view_name": "HTMLView",
            "style": "IPY_MODEL_f8ded26a43244b018d8986b459e44330",
            "_dom_classes": [],
            "description": "",
            "_model_name": "HTMLModel",
            "placeholder": "​",
            "_view_module": "@jupyter-widgets/controls",
            "_model_module_version": "1.5.0",
            "value": " 86/86 [02:23&lt;00:00,  1.67s/it]",
            "_view_count": null,
            "_view_module_version": "1.5.0",
            "description_tooltip": null,
            "_model_module": "@jupyter-widgets/controls",
            "layout": "IPY_MODEL_273e22c1f84a4c9d8fbee4fe8ea9f5d0"
          }
        },
        "94dacb0909da48ba84bae283f2d132db": {
          "model_module": "@jupyter-widgets/controls",
          "model_name": "ProgressStyleModel",
          "state": {
            "_view_name": "StyleView",
            "_model_name": "ProgressStyleModel",
            "description_width": "initial",
            "_view_module": "@jupyter-widgets/base",
            "_model_module_version": "1.5.0",
            "_view_count": null,
            "_view_module_version": "1.2.0",
            "bar_color": null,
            "_model_module": "@jupyter-widgets/controls"
          }
        },
        "4ab57be2547b41a2ad636f5907e7c2a1": {
          "model_module": "@jupyter-widgets/base",
          "model_name": "LayoutModel",
          "state": {
            "_view_name": "LayoutView",
            "grid_template_rows": null,
            "right": null,
            "justify_content": null,
            "_view_module": "@jupyter-widgets/base",
            "overflow": null,
            "_model_module_version": "1.2.0",
            "_view_count": null,
            "flex_flow": null,
            "width": null,
            "min_width": null,
            "border": null,
            "align_items": null,
            "bottom": null,
            "_model_module": "@jupyter-widgets/base",
            "top": null,
            "grid_column": null,
            "overflow_y": null,
            "overflow_x": null,
            "grid_auto_flow": null,
            "grid_area": null,
            "grid_template_columns": null,
            "flex": null,
            "_model_name": "LayoutModel",
            "justify_items": null,
            "grid_row": null,
            "max_height": null,
            "align_content": null,
            "visibility": null,
            "align_self": null,
            "height": null,
            "min_height": null,
            "padding": null,
            "grid_auto_rows": null,
            "grid_gap": null,
            "max_width": null,
            "order": null,
            "_view_module_version": "1.2.0",
            "grid_template_areas": null,
            "object_position": null,
            "object_fit": null,
            "grid_auto_columns": null,
            "margin": null,
            "display": null,
            "left": null
          }
        },
        "f8ded26a43244b018d8986b459e44330": {
          "model_module": "@jupyter-widgets/controls",
          "model_name": "DescriptionStyleModel",
          "state": {
            "_view_name": "StyleView",
            "_model_name": "DescriptionStyleModel",
            "description_width": "",
            "_view_module": "@jupyter-widgets/base",
            "_model_module_version": "1.5.0",
            "_view_count": null,
            "_view_module_version": "1.2.0",
            "_model_module": "@jupyter-widgets/controls"
          }
        },
        "273e22c1f84a4c9d8fbee4fe8ea9f5d0": {
          "model_module": "@jupyter-widgets/base",
          "model_name": "LayoutModel",
          "state": {
            "_view_name": "LayoutView",
            "grid_template_rows": null,
            "right": null,
            "justify_content": null,
            "_view_module": "@jupyter-widgets/base",
            "overflow": null,
            "_model_module_version": "1.2.0",
            "_view_count": null,
            "flex_flow": null,
            "width": null,
            "min_width": null,
            "border": null,
            "align_items": null,
            "bottom": null,
            "_model_module": "@jupyter-widgets/base",
            "top": null,
            "grid_column": null,
            "overflow_y": null,
            "overflow_x": null,
            "grid_auto_flow": null,
            "grid_area": null,
            "grid_template_columns": null,
            "flex": null,
            "_model_name": "LayoutModel",
            "justify_items": null,
            "grid_row": null,
            "max_height": null,
            "align_content": null,
            "visibility": null,
            "align_self": null,
            "height": null,
            "min_height": null,
            "padding": null,
            "grid_auto_rows": null,
            "grid_gap": null,
            "max_width": null,
            "order": null,
            "_view_module_version": "1.2.0",
            "grid_template_areas": null,
            "object_position": null,
            "object_fit": null,
            "grid_auto_columns": null,
            "margin": null,
            "display": null,
            "left": null
          }
        },
        "3af2e9b438b14178ac3dd99c90199a71": {
          "model_module": "@jupyter-widgets/controls",
          "model_name": "HBoxModel",
          "state": {
            "_view_name": "HBoxView",
            "_dom_classes": [],
            "_model_name": "HBoxModel",
            "_view_module": "@jupyter-widgets/controls",
            "_model_module_version": "1.5.0",
            "_view_count": null,
            "_view_module_version": "1.5.0",
            "box_style": "",
            "layout": "IPY_MODEL_3f02884489e348aa9323ac1d29b7ee70",
            "_model_module": "@jupyter-widgets/controls",
            "children": [
              "IPY_MODEL_ee4972f613e54cd98c10e665ea5f87e9",
              "IPY_MODEL_660caac3749449c6aa60fe617c718d44"
            ]
          }
        },
        "3f02884489e348aa9323ac1d29b7ee70": {
          "model_module": "@jupyter-widgets/base",
          "model_name": "LayoutModel",
          "state": {
            "_view_name": "LayoutView",
            "grid_template_rows": null,
            "right": null,
            "justify_content": null,
            "_view_module": "@jupyter-widgets/base",
            "overflow": null,
            "_model_module_version": "1.2.0",
            "_view_count": null,
            "flex_flow": null,
            "width": null,
            "min_width": null,
            "border": null,
            "align_items": null,
            "bottom": null,
            "_model_module": "@jupyter-widgets/base",
            "top": null,
            "grid_column": null,
            "overflow_y": null,
            "overflow_x": null,
            "grid_auto_flow": null,
            "grid_area": null,
            "grid_template_columns": null,
            "flex": null,
            "_model_name": "LayoutModel",
            "justify_items": null,
            "grid_row": null,
            "max_height": null,
            "align_content": null,
            "visibility": null,
            "align_self": null,
            "height": null,
            "min_height": null,
            "padding": null,
            "grid_auto_rows": null,
            "grid_gap": null,
            "max_width": null,
            "order": null,
            "_view_module_version": "1.2.0",
            "grid_template_areas": null,
            "object_position": null,
            "object_fit": null,
            "grid_auto_columns": null,
            "margin": null,
            "display": null,
            "left": null
          }
        },
        "ee4972f613e54cd98c10e665ea5f87e9": {
          "model_module": "@jupyter-widgets/controls",
          "model_name": "FloatProgressModel",
          "state": {
            "_view_name": "ProgressView",
            "style": "IPY_MODEL_c3a39078f0544aaf879a7985ff43f023",
            "_dom_classes": [],
            "description": "100%",
            "_model_name": "FloatProgressModel",
            "bar_style": "success",
            "max": 86,
            "_view_module": "@jupyter-widgets/controls",
            "_model_module_version": "1.5.0",
            "value": 86,
            "_view_count": null,
            "_view_module_version": "1.5.0",
            "orientation": "horizontal",
            "min": 0,
            "description_tooltip": null,
            "_model_module": "@jupyter-widgets/controls",
            "layout": "IPY_MODEL_5bcf4f6d32f9452cb19d674ee14766bc"
          }
        },
        "660caac3749449c6aa60fe617c718d44": {
          "model_module": "@jupyter-widgets/controls",
          "model_name": "HTMLModel",
          "state": {
            "_view_name": "HTMLView",
            "style": "IPY_MODEL_500b0a86e93e46b1816474a8cbe3f912",
            "_dom_classes": [],
            "description": "",
            "_model_name": "HTMLModel",
            "placeholder": "​",
            "_view_module": "@jupyter-widgets/controls",
            "_model_module_version": "1.5.0",
            "value": " 86/86 [02:23&lt;00:00,  1.67s/it]",
            "_view_count": null,
            "_view_module_version": "1.5.0",
            "description_tooltip": null,
            "_model_module": "@jupyter-widgets/controls",
            "layout": "IPY_MODEL_bbc02d18fb5d4d62a5478d89fc0d1b34"
          }
        },
        "c3a39078f0544aaf879a7985ff43f023": {
          "model_module": "@jupyter-widgets/controls",
          "model_name": "ProgressStyleModel",
          "state": {
            "_view_name": "StyleView",
            "_model_name": "ProgressStyleModel",
            "description_width": "initial",
            "_view_module": "@jupyter-widgets/base",
            "_model_module_version": "1.5.0",
            "_view_count": null,
            "_view_module_version": "1.2.0",
            "bar_color": null,
            "_model_module": "@jupyter-widgets/controls"
          }
        },
        "5bcf4f6d32f9452cb19d674ee14766bc": {
          "model_module": "@jupyter-widgets/base",
          "model_name": "LayoutModel",
          "state": {
            "_view_name": "LayoutView",
            "grid_template_rows": null,
            "right": null,
            "justify_content": null,
            "_view_module": "@jupyter-widgets/base",
            "overflow": null,
            "_model_module_version": "1.2.0",
            "_view_count": null,
            "flex_flow": null,
            "width": null,
            "min_width": null,
            "border": null,
            "align_items": null,
            "bottom": null,
            "_model_module": "@jupyter-widgets/base",
            "top": null,
            "grid_column": null,
            "overflow_y": null,
            "overflow_x": null,
            "grid_auto_flow": null,
            "grid_area": null,
            "grid_template_columns": null,
            "flex": null,
            "_model_name": "LayoutModel",
            "justify_items": null,
            "grid_row": null,
            "max_height": null,
            "align_content": null,
            "visibility": null,
            "align_self": null,
            "height": null,
            "min_height": null,
            "padding": null,
            "grid_auto_rows": null,
            "grid_gap": null,
            "max_width": null,
            "order": null,
            "_view_module_version": "1.2.0",
            "grid_template_areas": null,
            "object_position": null,
            "object_fit": null,
            "grid_auto_columns": null,
            "margin": null,
            "display": null,
            "left": null
          }
        },
        "500b0a86e93e46b1816474a8cbe3f912": {
          "model_module": "@jupyter-widgets/controls",
          "model_name": "DescriptionStyleModel",
          "state": {
            "_view_name": "StyleView",
            "_model_name": "DescriptionStyleModel",
            "description_width": "",
            "_view_module": "@jupyter-widgets/base",
            "_model_module_version": "1.5.0",
            "_view_count": null,
            "_view_module_version": "1.2.0",
            "_model_module": "@jupyter-widgets/controls"
          }
        },
        "bbc02d18fb5d4d62a5478d89fc0d1b34": {
          "model_module": "@jupyter-widgets/base",
          "model_name": "LayoutModel",
          "state": {
            "_view_name": "LayoutView",
            "grid_template_rows": null,
            "right": null,
            "justify_content": null,
            "_view_module": "@jupyter-widgets/base",
            "overflow": null,
            "_model_module_version": "1.2.0",
            "_view_count": null,
            "flex_flow": null,
            "width": null,
            "min_width": null,
            "border": null,
            "align_items": null,
            "bottom": null,
            "_model_module": "@jupyter-widgets/base",
            "top": null,
            "grid_column": null,
            "overflow_y": null,
            "overflow_x": null,
            "grid_auto_flow": null,
            "grid_area": null,
            "grid_template_columns": null,
            "flex": null,
            "_model_name": "LayoutModel",
            "justify_items": null,
            "grid_row": null,
            "max_height": null,
            "align_content": null,
            "visibility": null,
            "align_self": null,
            "height": null,
            "min_height": null,
            "padding": null,
            "grid_auto_rows": null,
            "grid_gap": null,
            "max_width": null,
            "order": null,
            "_view_module_version": "1.2.0",
            "grid_template_areas": null,
            "object_position": null,
            "object_fit": null,
            "grid_auto_columns": null,
            "margin": null,
            "display": null,
            "left": null
          }
        }
      }
    }
  },
  "cells": [
    {
      "cell_type": "markdown",
      "metadata": {
        "id": "view-in-github",
        "colab_type": "text"
      },
      "source": [
        "<a href=\"https://colab.research.google.com/github/GioDio1002/HuggingFace-Mini-Project/blob/main/chi/%E5%85%A8%E8%AF%8D%E9%81%AE%E7%BD%A9/%E6%9D%B0%E5%93%A5%E4%B8%8D%E8%A6%81_BERT_WMM_%E5%85%A8%E8%AF%8D%E9%81%AE%E7%BD%A9%E5%A1%AB%E5%85%85.ipynb\" target=\"_parent\"><img src=\"https://colab.research.google.com/assets/colab-badge.svg\" alt=\"Open In Colab\"/></a>"
      ]
    },
    {
      "cell_type": "markdown",
      "metadata": {
        "id": "qPu_zoa9Y6cm"
      },
      "source": [
        "# 前言\n",
        "最近在B站杰哥区看了几百集平行宇宙剧本，也看过114514次翻译和AI续写的版本。忽然，萌生了一个想法：**如果把200多句对白部分的字词遮罩，让AI去填写会有什么效果呢?**。*我很好奇*，因此本代码主要以全词遮罩的中文预训练模型BERT-wwm去探索\"杰哥不要\"的**可能性**。"
      ]
    },
    {
      "cell_type": "markdown",
      "metadata": {
        "id": "7C97fB6HYt3e"
      },
      "source": [
        "# 参考\n",
        "[HuggingFace Transformer API](https://huggingface.co/hfl/chinese-bert-wwm-ext)<br>\n",
        "[中文BERT-wwm](https://github.com/ymcui/Chinese-BERT-wwm)<br>\n",
        "[杰哥不要啦完整台词整理](https://www.bilibili.com/read/cv9034147/)<br>\n",
        "[BERT模型 vs 王思聪！看一看谁的土味情话更加肉麻？](https://mp.weixin.qq.com/s/6QE2CfFwNgMawZ7JdtX19g)<br>\n",
        "[用Python制作酷炫词云图，原来这么简单！\n",
        "](https://blog.csdn.net/weixin_46089319/article/details/104009532)"
      ]
    },
    {
      "cell_type": "markdown",
      "metadata": {
        "id": "7kA2jAIUbkl_"
      },
      "source": [
        "代码开发环境为Google Colab,所以使用不同环境的朋友们注意要对应library的安装"
      ]
    },
    {
      "cell_type": "code",
      "metadata": {
        "colab": {
          "base_uri": "https://localhost:8080/"
        },
        "id": "bCYuDKNEbTD4",
        "outputId": "4fab9143-ca92-43dd-e1e2-b68a90d46133"
      },
      "source": [
        "#安装 Transformers\n",
        "!pip install transformers"
      ],
      "execution_count": null,
      "outputs": [
        {
          "output_type": "stream",
          "text": [
            "Collecting transformers\n",
            "\u001b[?25l  Downloading https://files.pythonhosted.org/packages/00/92/6153f4912b84ee1ab53ab45663d23e7cf3704161cb5ef18b0c07e207cef2/transformers-4.7.0-py3-none-any.whl (2.5MB)\n",
            "\u001b[K     |████████████████████████████████| 2.5MB 4.3MB/s \n",
            "\u001b[?25hCollecting huggingface-hub==0.0.8\n",
            "  Downloading https://files.pythonhosted.org/packages/a1/88/7b1e45720ecf59c6c6737ff332f41c955963090a18e72acbcbeac6b25e86/huggingface_hub-0.0.8-py3-none-any.whl\n",
            "Requirement already satisfied: numpy>=1.17 in /usr/local/lib/python3.7/dist-packages (from transformers) (1.19.5)\n",
            "Requirement already satisfied: tqdm>=4.27 in /usr/local/lib/python3.7/dist-packages (from transformers) (4.41.1)\n",
            "Requirement already satisfied: pyyaml in /usr/local/lib/python3.7/dist-packages (from transformers) (3.13)\n",
            "Requirement already satisfied: requests in /usr/local/lib/python3.7/dist-packages (from transformers) (2.23.0)\n",
            "Requirement already satisfied: importlib-metadata; python_version < \"3.8\" in /usr/local/lib/python3.7/dist-packages (from transformers) (4.5.0)\n",
            "Collecting tokenizers<0.11,>=0.10.1\n",
            "\u001b[?25l  Downloading https://files.pythonhosted.org/packages/d4/e2/df3543e8ffdab68f5acc73f613de9c2b155ac47f162e725dcac87c521c11/tokenizers-0.10.3-cp37-cp37m-manylinux_2_5_x86_64.manylinux1_x86_64.manylinux_2_12_x86_64.manylinux2010_x86_64.whl (3.3MB)\n",
            "\u001b[K     |████████████████████████████████| 3.3MB 41.4MB/s \n",
            "\u001b[?25hCollecting sacremoses\n",
            "\u001b[?25l  Downloading https://files.pythonhosted.org/packages/75/ee/67241dc87f266093c533a2d4d3d69438e57d7a90abb216fa076e7d475d4a/sacremoses-0.0.45-py3-none-any.whl (895kB)\n",
            "\u001b[K     |████████████████████████████████| 901kB 37.9MB/s \n",
            "\u001b[?25hRequirement already satisfied: packaging in /usr/local/lib/python3.7/dist-packages (from transformers) (20.9)\n",
            "Requirement already satisfied: filelock in /usr/local/lib/python3.7/dist-packages (from transformers) (3.0.12)\n",
            "Requirement already satisfied: regex!=2019.12.17 in /usr/local/lib/python3.7/dist-packages (from transformers) (2019.12.20)\n",
            "Requirement already satisfied: chardet<4,>=3.0.2 in /usr/local/lib/python3.7/dist-packages (from requests->transformers) (3.0.4)\n",
            "Requirement already satisfied: idna<3,>=2.5 in /usr/local/lib/python3.7/dist-packages (from requests->transformers) (2.10)\n",
            "Requirement already satisfied: urllib3!=1.25.0,!=1.25.1,<1.26,>=1.21.1 in /usr/local/lib/python3.7/dist-packages (from requests->transformers) (1.24.3)\n",
            "Requirement already satisfied: certifi>=2017.4.17 in /usr/local/lib/python3.7/dist-packages (from requests->transformers) (2021.5.30)\n",
            "Requirement already satisfied: typing-extensions>=3.6.4; python_version < \"3.8\" in /usr/local/lib/python3.7/dist-packages (from importlib-metadata; python_version < \"3.8\"->transformers) (3.7.4.3)\n",
            "Requirement already satisfied: zipp>=0.5 in /usr/local/lib/python3.7/dist-packages (from importlib-metadata; python_version < \"3.8\"->transformers) (3.4.1)\n",
            "Requirement already satisfied: click in /usr/local/lib/python3.7/dist-packages (from sacremoses->transformers) (7.1.2)\n",
            "Requirement already satisfied: joblib in /usr/local/lib/python3.7/dist-packages (from sacremoses->transformers) (1.0.1)\n",
            "Requirement already satisfied: six in /usr/local/lib/python3.7/dist-packages (from sacremoses->transformers) (1.15.0)\n",
            "Requirement already satisfied: pyparsing>=2.0.2 in /usr/local/lib/python3.7/dist-packages (from packaging->transformers) (2.4.7)\n",
            "Installing collected packages: huggingface-hub, tokenizers, sacremoses, transformers\n",
            "Successfully installed huggingface-hub-0.0.8 sacremoses-0.0.45 tokenizers-0.10.3 transformers-4.7.0\n"
          ],
          "name": "stdout"
        }
      ]
    },
    {
      "cell_type": "code",
      "metadata": {
        "id": "vz1XmXzScp53"
      },
      "source": [
        "from transformers import pipeline\n",
        "import requests\n",
        "from bs4 import BeautifulSoup\n",
        "import bleach\n",
        "import random\n",
        "from tqdm.notebook import tqdm"
      ],
      "execution_count": null,
      "outputs": []
    },
    {
      "cell_type": "markdown",
      "metadata": {
        "id": "XRtYmDoEcTfT"
      },
      "source": [
        "# 数据收集"
      ]
    },
    {
      "cell_type": "markdown",
      "metadata": {
        "id": "FCBHoBEAhUvo"
      },
      "source": [
        "这里感谢up主碳酸镁儿的整理，这里主要是关键对白，本人在这尽量作补充和修正，日后有我可能尝试*python从影片抽取字幕的项目*。"
      ]
    },
    {
      "cell_type": "code",
      "metadata": {
        "colab": {
          "base_uri": "https://localhost:8080/"
        },
        "id": "DskHO90QcUB_",
        "outputId": "6eeb36cc-8d59-455d-fa6d-0016bc66bbaf"
      },
      "source": [
        "#简单爬虫\n",
        "response = requests.get(url='https://www.bilibili.com/read/cv9034147/')\n",
        "response.encoding = response.apparent_encoding\n",
        "soup = BeautifulSoup(response.content, 'html.parser')\n",
        "para = soup.find_all('p')  #Get the paragraph element\n",
        "para"
      ],
      "execution_count": null,
      "outputs": [
        {
          "output_type": "execute_result",
          "data": {
            "text/plain": [
              "[<p class=\"inner-title\" title=\"杰哥不要啦完整台词整理\">杰哥不要啦完整台词整理</p>,\n",
              " <p>阿伟：弱耶，拜托你很弱耶，你现在知道谁是老大了喔</p>,\n",
              " <p>阿妈：阿伟你又在打电动喔，休息一下吧，去看看书好不好</p>,\n",
              " <p>阿伟：烦呐</p>,\n",
              " <p>阿妈：我在跟你讲话，有没有听到</p>,\n",
              " <p>阿伟：你不要烦好不好</p>,\n",
              " <p>阿妈：我才说你两句你就说我烦，我只希望你能够好好用功读书，整天只看到你在这边打电动</p>,\n",
              " <p>阿伟：靠，输了啦，都是你害的啦，拜托</p>,\n",
              " <p>阿伟：他超废的</p>,\n",
              " <p>彬彬：我知道啊，之前我就干掉他过</p>,\n",
              " <p>阿伟：他每次都被我洗战绩耶</p>,\n",
              " <p>彬彬：他就嫩啊</p>,\n",
              " <p>    杰哥回眸</p>,\n",
              " <p>阿伟：快点啦，我看到了，左边左边</p>,\n",
              " <p>彬彬：好了</p>,\n",
              " <p>阿伟：上面上面……左边左边</p>,\n",
              " <p>彬彬：你不会放诶</p>,\n",
              " <p>               我输了啊，快点放…</p>,\n",
              " <p>               我输了，不要玩了</p>,\n",
              " <p>阿伟：诶，你不要每次都这样好不好</p>,\n",
              " <p>彬彬：不想玩了啦</p>,\n",
              " <p>阿伟：你还有没有钱啊，我肚子好饿</p>,\n",
              " <p>彬彬：没了啦，今天都花光了</p>,\n",
              " <p>阿伟：我刚刚不是叫你多带一点吗</p>,\n",
              " <p>彬彬：你干嘛自己不多带</p>,\n",
              " <p>阿伟：你不要每次都这样好不好啦</p>,\n",
              " <p>彬彬：好啦，时间也差不多了</p>,\n",
              " <p>杰哥在等他们</p>,\n",
              " <p>阿伟：彬彬，我好饿喔</p>,\n",
              " <p>彬彬：我们两个都没钱了</p>,\n",
              " <p>阿伟：你要干嘛</p>,\n",
              " <p>彬彬：没有钱我们只能回家</p>,\n",
              " <p>阿伟：拜托，我才不要回家咧，我阿妈超凶的耶，去住你家啦</p>,\n",
              " <p>彬彬：不行啊</p>,\n",
              " <p>阿伟：为什么不行</p>,\n",
              " <p>彬彬：我自己都自身难保了，而且我爸会揍我</p>,\n",
              " <p>（此时阿杰出现）</p>,\n",
              " <p>阿杰：不好意思，我刚听到你们两个说肚子饿，我这里刚好有个面包，给你们吃（显示自己的力量，表示愿意帮助二人），我还不饿，来，请你们吃（表达善意）</p>,\n",
              " <p>阿伟（小声）：先吃先吃</p>,\n",
              " <p>阿杰：对了，我叫阿杰，我也常来这里玩，他们都叫我杰哥，你们好，我一个人住，我的房子还蛮大的，欢迎你们来我家玩。玩累了就直接睡觉，没问题的。</p>,\n",
              " <p>阿伟：你觉得咧？ </p>,\n",
              " <p>彬彬：我觉得怪怪的。</p>,\n",
              " <p>阿伟：看起来就是个很奇怪的人啊</p>,\n",
              " <p>彬彬：不要理他</p>,\n",
              " <p>阿杰：我常常帮助一些翘家的人，如果你们不要来的话，也没有关系；如果要来的话，我等一下可以带你们去超商，买一些好吃的喔。</p>,\n",
              " <p>阿伟：有东西可以吃耶，要不要去啊？</p>,\n",
              " <p>彬彬：好啊，不然去好了。</p>,\n",
              " <p>阿伟：那杰哥，我跟我朋友今天就去你家住啰</p>,\n",
              " <p>阿杰：好啊，没问题啊，那走啊。我们现在就去超商买一些吃的。</p>,\n",
              " <p>阿伟/彬彬：好啊，走走走</p>,\n",
              " <p>（超商里）</p>,\n",
              " <p>阿伟：有酒欸</p>,\n",
              " <p>彬彬：不要看酒啦先买饮料。什么都可以拿吗杰哥？</p>,\n",
              " <p>阿杰：都可以拿，你们随便拿，随便拿，可以拿，都拿</p>,\n",
              " <p>阿伟：谢谢杰哥</p>,\n",
              " <p>（杰哥家里）彬彬：啊，再来，再来（昏阙） </p>,\n",
              " <p>阿杰：你看这个彬彬，才几罐就醉了，真的太逊了</p>,\n",
              " <p>阿伟：这个彬彬就是逊啦</p>,\n",
              " <p>阿杰：听你这么说，你很勇喔</p>,\n",
              " <p>阿伟：开玩笑，我超勇的好不好，我超会喝的啦</p>,\n",
              " <p>阿杰：超会喝，很勇嘛。身材蛮不错喔，蛮结实的啊。</p>,\n",
              " <p>（说着说着阿杰拍了拍阿伟的大腿）</p>,\n",
              " <p>阿伟：杰哥，你干嘛啊</p>,\n",
              " <p>阿杰：都几岁了，还那么害羞，我看你是完全不懂喔</p>,\n",
              " <p>阿伟：懂，懂什么啊</p>,\n",
              " <p>阿杰：你想懂，我房里有一些好康的</p>,\n",
              " <p>阿伟：好康…是新游戏喔？</p>,\n",
              " <p>阿杰：什么新游戏，比游戏还刺激，还可以叫你，登dua郎喔</p>,\n",
              " <p>阿伟：登dua郎？</p>,\n",
              " <p>阿杰：对啊，来啦，来看就知道了</p>,\n",
              " <p>阿伟：杰哥，酒</p>,\n",
              " <p>阿杰：拿着，来来来（阿杰屋里）</p>,\n",
              " <p>阿杰拉着阿伟来到自己屋里</p>,\n",
              " <p>阿杰：你过来</p>,\n",
              " <p>阿伟：干嘛啊，哇，杰哥你有好多A片喔</p>,\n",
              " <p>阿杰：哎哟，那没什么，来看这个好康的</p>,\n",
              " <p>阿伟：杰哥，这是什么啊</p>,\n",
              " <p>阿杰：哎哟，你脸红了，来，让我看看</p>,\n",
              " <p>阿伟：不要啦（拼死挣扎）</p>,\n",
              " <p>阿杰：让我看看！</p>,\n",
              " <p>阿伟：不要啦，杰哥，你干嘛啊</p>,\n",
              " <p>阿杰：让我看看你发育正常不正常</p>,\n",
              " <p>阿伟：杰哥，不要啦</p>,\n",
              " <p>（阿杰取下眼镜，封印杰除）</p>,\n",
              " <p>阿杰：听话，让我看看！（声色俱厉）</p>,\n",
              " <p>阿伟：不要！</p>,\n",
              " <p>阿萎：杰哥不要啊，杰哥不要啦，杰哥！！！杰哥不要！！！杰哥不要啦！！！</p>,\n",
              " <p><br/></p>]"
            ]
          },
          "metadata": {
            "tags": []
          },
          "execution_count": 4
        }
      ]
    },
    {
      "cell_type": "markdown",
      "metadata": {
        "id": "0SLk1iW1jMnc"
      },
      "source": [
        "# 数据清洗"
      ]
    },
    {
      "cell_type": "code",
      "metadata": {
        "colab": {
          "base_uri": "https://localhost:8080/"
        },
        "id": "fblXTyC8c4sF",
        "outputId": "96151587-0f0e-40da-b205-92c9945cc9e4"
      },
      "source": [
        "para1,script = [],[]\n",
        "for p in para[1:-1]: #只关注剧本内容\n",
        "  para1.append(str(p))  #转换格式\n",
        "for p in para1:\n",
        "    tmp = bleach.clean(p,tags=[],strip=True).replace('\\xa0','').replace(' ','').replace('萎','伟')#去掉tag和脏数据，同步角色名称\n",
        "    if  not  '：'   in tmp and not  '（' in  tmp :#标识动作和过场，注意是中文的括号\n",
        "      tmp = '（' +tmp+'）'\n",
        "    script.append(tmp)\n",
        "script"
      ],
      "execution_count": null,
      "outputs": [
        {
          "output_type": "execute_result",
          "data": {
            "text/plain": [
              "['阿伟：弱耶，拜托你很弱耶，你现在知道谁是老大了喔',\n",
              " '阿妈：阿伟你又在打电动喔，休息一下吧，去看看书好不好',\n",
              " '阿伟：烦呐',\n",
              " '阿妈：我在跟你讲话，有没有听到',\n",
              " '阿伟：你不要烦好不好',\n",
              " '阿妈：我才说你两句你就说我烦，我只希望你能够好好用功读书，整天只看到你在这边打电动',\n",
              " '阿伟：靠，输了啦，都是你害的啦，拜托',\n",
              " '阿伟：他超废的',\n",
              " '彬彬：我知道啊，之前我就干掉他过',\n",
              " '阿伟：他每次都被我洗战绩耶',\n",
              " '彬彬：他就嫩啊',\n",
              " '（杰哥回眸）',\n",
              " '阿伟：快点啦，我看到了，左边左边',\n",
              " '彬彬：好了',\n",
              " '阿伟：上面上面……左边左边',\n",
              " '彬彬：你不会放诶',\n",
              " '（我输了啊，快点放…）',\n",
              " '（我输了，不要玩了）',\n",
              " '阿伟：诶，你不要每次都这样好不好',\n",
              " '彬彬：不想玩了啦',\n",
              " '阿伟：你还有没有钱啊，我肚子好饿',\n",
              " '彬彬：没了啦，今天都花光了',\n",
              " '阿伟：我刚刚不是叫你多带一点吗',\n",
              " '彬彬：你干嘛自己不多带',\n",
              " '阿伟：你不要每次都这样好不好啦',\n",
              " '彬彬：好啦，时间也差不多了',\n",
              " '（杰哥在等他们）',\n",
              " '阿伟：彬彬，我好饿喔',\n",
              " '彬彬：我们两个都没钱了',\n",
              " '阿伟：你要干嘛',\n",
              " '彬彬：没有钱我们只能回家',\n",
              " '阿伟：拜托，我才不要回家咧，我阿妈超凶的耶，去住你家啦',\n",
              " '彬彬：不行啊',\n",
              " '阿伟：为什么不行',\n",
              " '彬彬：我自己都自身难保了，而且我爸会揍我',\n",
              " '（此时阿杰出现）',\n",
              " '阿杰：不好意思，我刚听到你们两个说肚子饿，我这里刚好有个面包，给你们吃（显示自己的力量，表示愿意帮助二人），我还不饿，来，请你们吃（表达善意）',\n",
              " '阿伟（小声）：先吃先吃',\n",
              " '阿杰：对了，我叫阿杰，我也常来这里玩，他们都叫我杰哥，你们好，我一个人住，我的房子还蛮大的，欢迎你们来我家玩。玩累了就直接睡觉，没问题的。',\n",
              " '阿伟：你觉得咧？',\n",
              " '彬彬：我觉得怪怪的。',\n",
              " '阿伟：看起来就是个很奇怪的人啊',\n",
              " '彬彬：不要理他',\n",
              " '阿杰：我常常帮助一些翘家的人，如果你们不要来的话，也没有关系；如果要来的话，我等一下可以带你们去超商，买一些好吃的喔。',\n",
              " '阿伟：有东西可以吃耶，要不要去啊？',\n",
              " '彬彬：好啊，不然去好了。',\n",
              " '阿伟：那杰哥，我跟我朋友今天就去你家住啰',\n",
              " '阿杰：好啊，没问题啊，那走啊。我们现在就去超商买一些吃的。',\n",
              " '阿伟/彬彬：好啊，走走走',\n",
              " '（超商里）',\n",
              " '阿伟：有酒欸',\n",
              " '彬彬：不要看酒啦先买饮料。什么都可以拿吗杰哥？',\n",
              " '阿杰：都可以拿，你们随便拿，随便拿，可以拿，都拿',\n",
              " '阿伟：谢谢杰哥',\n",
              " '（杰哥家里）彬彬：啊，再来，再来（昏阙）',\n",
              " '阿杰：你看这个彬彬，才几罐就醉了，真的太逊了',\n",
              " '阿伟：这个彬彬就是逊啦',\n",
              " '阿杰：听你这么说，你很勇喔',\n",
              " '阿伟：开玩笑，我超勇的好不好，我超会喝的啦',\n",
              " '阿杰：超会喝，很勇嘛。身材蛮不错喔，蛮结实的啊。',\n",
              " '（说着说着阿杰拍了拍阿伟的大腿）',\n",
              " '阿伟：杰哥，你干嘛啊',\n",
              " '阿杰：都几岁了，还那么害羞，我看你是完全不懂喔',\n",
              " '阿伟：懂，懂什么啊',\n",
              " '阿杰：你想懂，我房里有一些好康的',\n",
              " '阿伟：好康…是新游戏喔？',\n",
              " '阿杰：什么新游戏，比游戏还刺激，还可以叫你，登dua郎喔',\n",
              " '阿伟：登dua郎？',\n",
              " '阿杰：对啊，来啦，来看就知道了',\n",
              " '阿伟：杰哥，酒',\n",
              " '阿杰：拿着，来来来（阿杰屋里）',\n",
              " '（阿杰拉着阿伟来到自己屋里）',\n",
              " '阿杰：你过来',\n",
              " '阿伟：干嘛啊，哇，杰哥你有好多A片喔',\n",
              " '阿杰：哎哟，那没什么，来看这个好康的',\n",
              " '阿伟：杰哥，这是什么啊',\n",
              " '阿杰：哎哟，你脸红了，来，让我看看',\n",
              " '阿伟：不要啦（拼死挣扎）',\n",
              " '阿杰：让我看看！',\n",
              " '阿伟：不要啦，杰哥，你干嘛啊',\n",
              " '阿杰：让我看看你发育正常不正常',\n",
              " '阿伟：杰哥，不要啦',\n",
              " '（阿杰取下眼镜，封印杰除）',\n",
              " '阿杰：听话，让我看看！（声色俱厉）',\n",
              " '阿伟：不要！',\n",
              " '阿伟：杰哥不要啊，杰哥不要啦，杰哥！！！杰哥不要！！！杰哥不要啦！！！']"
            ]
          },
          "metadata": {
            "tags": []
          },
          "execution_count": 5
        }
      ]
    },
    {
      "cell_type": "markdown",
      "metadata": {
        "id": "xzmNYuLBi906"
      },
      "source": [
        "# 数据探索"
      ]
    },
    {
      "cell_type": "markdown",
      "metadata": {
        "id": "cA5CDja2jz9l"
      },
      "source": [
        "理论上是应该清洗前探索的，反正都~~全文背诵~~，日后有机会补上词云图吧\n",
        "\n",
        "\n",
        "\n"
      ]
    },
    {
      "cell_type": "markdown",
      "metadata": {
        "id": "HTplFFYhjEP1"
      },
      "source": [
        "# 特征工程\n",
        "遮蔽的效果是随机，目前模型只允许文本有一个[MASK],有两种方案：\n",
        "1.   按标点符号分句，随机进行文本遮罩\n",
        "2.   每个人发言，一整段包括标点符号随机[MASK]\n",
        "\n",
        "尽管BERT-WMM模型能够预测标点符号，但为了效果，还是使用方案一\n"
      ]
    },
    {
      "cell_type": "code",
      "metadata": {
        "id": "vWOWoPFKdvNd"
      },
      "source": [
        "def random_mask(script):\n",
        "  r1 = []\n",
        "  for s1 in script:\n",
        "      ls = s1.split('，') #按逗号分句\n",
        "      r2 = ''\n",
        "      for s2 in ls: #随机遮罩\n",
        "        if '：' in s2:\n",
        "            n = len(s2[2:])\n",
        "            index = random.randint(3,n+1)\n",
        "            r2 += s2[:index]+'[MASK]'+s2[index+1:]+'，'\n",
        "        elif 'dua' in s2: #针对登dua郎中的拼音\n",
        "            r2 += s2.replace('dua','[MASK]')\n",
        "        else:\n",
        "            n = len(s2)\n",
        "            index = random.randint(0,n)\n",
        "            r2 += s2[:index]+'[MASK]'+s2[index+1:]+'，'\n",
        "      if r2.endswith('，'): #去掉最后的逗号\n",
        "          r2 = r2[:-1]\n",
        "      r1.append(r2) \n",
        "  return r1"
      ],
      "execution_count": null,
      "outputs": []
    },
    {
      "cell_type": "code",
      "metadata": {
        "colab": {
          "base_uri": "https://localhost:8080/"
        },
        "id": "2zWhFPk7aos1",
        "outputId": "113c8013-6b18-4d21-f28d-7116b2339567"
      },
      "source": [
        "masked = random_mask(script)\n",
        "masked"
      ],
      "execution_count": null,
      "outputs": [
        {
          "output_type": "execute_result",
          "data": {
            "text/plain": [
              "['阿伟：[MASK]耶，拜托你[MASK]弱耶，你[MASK]在知道谁是老大了喔',\n",
              " '阿妈：阿伟你又在打电动[MASK]，休息[MASK]下吧，[MASK]看看书好不好',\n",
              " '阿伟：烦[MASK]',\n",
              " '阿妈：[MASK]在跟你讲话，有没有听到[MASK]',\n",
              " '阿伟：你不要烦[MASK]不好',\n",
              " '阿妈：[MASK]才说你两句你就说我烦，我[MASK]希望你能够好好用功读书，整天只看[MASK]你在这边打电动',\n",
              " '阿伟：[MASK]，输了啦[MASK]，都是你害的啦[MASK]，拜托[MASK]',\n",
              " '阿伟：他[MASK]废的',\n",
              " '彬彬：我[MASK]道啊，之前我就干掉[MASK]过',\n",
              " '阿伟：他[MASK]次都被我洗战绩耶',\n",
              " '彬彬：他就[MASK]啊',\n",
              " '[MASK]杰哥回眸）',\n",
              " '阿伟：快[MASK]啦，我[MASK]到了，左边左边[MASK]',\n",
              " '彬彬：[MASK]了',\n",
              " '阿伟：上面上面……[MASK]边左边',\n",
              " '彬彬：你不[MASK]放诶',\n",
              " '（我输[MASK]啊，快点放[MASK]）',\n",
              " '（我[MASK]了，不要[MASK]了）',\n",
              " '阿伟：[MASK]，你不[MASK]每次都这样好不好',\n",
              " '彬彬：不想玩[MASK]啦',\n",
              " '阿伟：[MASK]还有没有钱啊，我肚子好[MASK]',\n",
              " '彬彬：没[MASK]啦，今天都花[MASK]了',\n",
              " '阿伟：我刚刚不是叫你[MASK]带一点吗',\n",
              " '彬彬：你干嘛自己[MASK]多带',\n",
              " '阿伟：你不[MASK]每次都这样好不好啦',\n",
              " '彬彬：好[MASK]，时间也差不多[MASK]',\n",
              " '[MASK]杰哥在等他们）',\n",
              " '阿伟：[MASK]彬，[MASK]好饿喔',\n",
              " '彬彬：我们两个都[MASK]钱了',\n",
              " '阿伟：你[MASK]干嘛',\n",
              " '彬彬：没有钱我们只能[MASK]家',\n",
              " '阿伟：[MASK]托，我才不要回家[MASK]，我阿[MASK]超凶的耶，去住你[MASK]啦',\n",
              " '彬彬：[MASK]行啊',\n",
              " '阿伟：为什么不[MASK]',\n",
              " '彬彬：我自[MASK]都自身难保了，而[MASK]我爸会揍我',\n",
              " '（此时阿杰出现[MASK]',\n",
              " '阿杰：[MASK]好意思，我刚[MASK]到你们两个说肚子饿，我这里刚好有个面包[MASK]，给你们吃（[MASK]示自己的力量，表示愿意帮助二[MASK]），我还不[MASK]，来[MASK]，请你们吃[MASK]表达善意）',\n",
              " '阿伟（小声[MASK]：先吃先吃',\n",
              " '阿杰：对[MASK]，我[MASK]阿杰，我也常来这里[MASK]，他们都叫我杰哥[MASK]，你们[MASK]，[MASK]一个人住，我的[MASK]子还蛮大的，欢迎你们来我家玩。玩累了就直接睡[MASK]，没问[MASK]的。',\n",
              " '阿伟：你[MASK]得咧？',\n",
              " '彬彬：我[MASK]得怪怪的。',\n",
              " '阿伟：[MASK]起来就是个很奇怪的人啊',\n",
              " '彬彬：不要[MASK]他',\n",
              " '阿杰：我常[MASK]帮助一些翘家的人，如果你们不要来的话[MASK]，也没有关系；如[MASK]要来的话，我等一下可以带你们去超[MASK]，买一些好吃的喔。[MASK]',\n",
              " '阿伟：有东西可以吃[MASK]，要不要[MASK]啊？',\n",
              " '彬彬：[MASK]啊，[MASK]然去好了。',\n",
              " '阿伟：那[MASK]哥，我跟我朋友今[MASK]就去你家住啰',\n",
              " '阿杰：[MASK]啊，没[MASK]题啊，那走啊。我们现在就去超商买一些[MASK]的。',\n",
              " '阿伟/彬彬：[MASK]啊，走走走[MASK]',\n",
              " '（[MASK]商里）',\n",
              " '阿伟：有酒[MASK]',\n",
              " '彬彬：不要看酒啦先买饮料。什么都可以拿吗杰[MASK]？',\n",
              " '阿杰：都可[MASK]拿，你们随便拿[MASK]，随便拿[MASK]，可[MASK]拿，都拿[MASK]',\n",
              " '阿伟：[MASK]谢杰哥',\n",
              " '（杰哥[MASK]里）彬彬：啊，再来[MASK]，再来（昏阙）[MASK]',\n",
              " '阿杰：你看[MASK]个彬彬，[MASK]几罐就醉了，[MASK]的太逊了',\n",
              " '阿伟：这个彬彬就是[MASK]啦',\n",
              " '阿杰：听[MASK]这么说，你[MASK]勇喔',\n",
              " '阿伟：[MASK]玩笑，我超勇的好不[MASK]，我[MASK]会喝的啦',\n",
              " '阿杰：超会[MASK]，很勇嘛。[MASK]材蛮不错喔，蛮结[MASK]的啊。',\n",
              " '[MASK]说着说着阿杰拍了拍阿伟的大腿）',\n",
              " '阿伟：杰[MASK]，你干嘛[MASK]',\n",
              " '阿杰：都几岁[MASK]，还那么害[MASK]，我看你是[MASK]全不懂喔',\n",
              " '阿伟：[MASK]，懂什么[MASK]',\n",
              " '阿杰：[MASK]想懂，我房里有一些[MASK]康的',\n",
              " '阿伟：好康…[MASK]新游戏喔？',\n",
              " '阿杰：什[MASK]新游戏，[MASK]游戏还刺激，还[MASK]以叫你，登[MASK]郎喔',\n",
              " '阿伟：登dua[MASK]？',\n",
              " '阿杰：[MASK]啊，[MASK]啦，来看就[MASK]道了',\n",
              " '阿伟：杰[MASK]，[MASK]',\n",
              " '阿杰：[MASK]着，来[MASK]来（阿杰屋里）',\n",
              " '（阿杰拉着[MASK]伟来到自己屋里）',\n",
              " '阿杰：[MASK]过来',\n",
              " '阿伟：[MASK]嘛啊，[MASK]，杰[MASK]你有好多A片喔',\n",
              " '阿杰：哎[MASK]，那[MASK]什么，来看这个好康[MASK]',\n",
              " '阿伟：杰[MASK]，这是[MASK]么啊',\n",
              " '阿杰：哎[MASK]，你[MASK]红了，来[MASK]，让[MASK]看看',\n",
              " '阿伟：不要啦（拼[MASK]挣扎）',\n",
              " '阿杰：让我看看[MASK]',\n",
              " '阿伟：[MASK]要啦，[MASK]哥，[MASK]干嘛啊',\n",
              " '阿杰：让我看看你发育正常不正[MASK]',\n",
              " '阿伟：杰[MASK]，不要[MASK]',\n",
              " '（阿杰[MASK]下眼镜，[MASK]印杰除）',\n",
              " '阿杰：听[MASK]，让我看看！（声[MASK]俱厉）',\n",
              " '阿伟：不要[MASK]',\n",
              " '阿伟：杰哥不[MASK]啊，[MASK]哥不要啦，杰哥！！！杰哥不要！！！杰哥不要[MASK]！！！']"
            ]
          },
          "metadata": {
            "tags": []
          },
          "execution_count": 56
        }
      ]
    },
    {
      "cell_type": "markdown",
      "metadata": {
        "id": "SHkzW03hj8VH"
      },
      "source": [
        "# 建模及预测"
      ]
    },
    {
      "cell_type": "markdown",
      "metadata": {
        "id": "8s0wJ5XmkBah"
      },
      "source": [
        "这次只是调用BERT的预训练模型，所以没有训练过程。直接让我康康预测效果！"
      ]
    },
    {
      "cell_type": "code",
      "metadata": {
        "colab": {
          "base_uri": "https://localhost:8080/"
        },
        "id": "EbqwaMPmYoEe",
        "outputId": "ace0fdb3-3914-44fc-f3c0-9856a1446e1b"
      },
      "source": [
        "#定义pipeline作预测\n",
        "unmasker = pipeline('fill-mask', model='bert-base-chinese')"
      ],
      "execution_count": null,
      "outputs": [
        {
          "output_type": "stream",
          "text": [
            "Some weights of the model checkpoint at bert-base-chinese were not used when initializing BertForMaskedLM: ['cls.seq_relationship.bias', 'cls.seq_relationship.weight']\n",
            "- This IS expected if you are initializing BertForMaskedLM from the checkpoint of a model trained on another task or with another architecture (e.g. initializing a BertForSequenceClassification model from a BertForPreTraining model).\n",
            "- This IS NOT expected if you are initializing BertForMaskedLM from the checkpoint of a model that you expect to be exactly identical (initializing a BertForSequenceClassification model from a BertForSequenceClassification model).\n"
          ],
          "name": "stderr"
        }
      ]
    },
    {
      "cell_type": "code",
      "metadata": {
        "colab": {
          "base_uri": "https://localhost:8080/"
        },
        "id": "2oRtCeAOVV_M",
        "outputId": "080b02d2-a937-44cf-8dde-33a2baa1b9db"
      },
      "source": [
        "exp = unmasker('阿伟/彬彬：[MASK]啊，走走走') #测试输出\n",
        "exp"
      ],
      "execution_count": null,
      "outputs": [
        {
          "output_type": "execute_result",
          "data": {
            "text/plain": [
              "[{'score': 0.474282443523407,\n",
              "  'sequence': '阿 伟 / 彬 彬 ： 是 啊 ， 走 走 走',\n",
              "  'token': 3221,\n",
              "  'token_str': '是'},\n",
              " {'score': 0.2970081865787506,\n",
              "  'sequence': '阿 伟 / 彬 彬 ： 好 啊 ， 走 走 走',\n",
              "  'token': 1962,\n",
              "  'token_str': '好'},\n",
              " {'score': 0.07564515620470047,\n",
              "  'sequence': '阿 伟 / 彬 彬 ： 对 啊 ， 走 走 走',\n",
              "  'token': 2190,\n",
              "  'token_str': '对'},\n",
              " {'score': 0.02331240475177765,\n",
              "  'sequence': '阿 伟 / 彬 彬 ： 行 啊 ， 走 走 走',\n",
              "  'token': 6121,\n",
              "  'token_str': '行'},\n",
              " {'score': 0.018891604617238045,\n",
              "  'sequence': '阿 伟 / 彬 彬 ： 走 啊 ， 走 走 走',\n",
              "  'token': 6624,\n",
              "  'token_str': '走'}]"
            ]
          },
          "metadata": {
            "tags": []
          },
          "execution_count": 59
        }
      ]
    },
    {
      "cell_type": "markdown",
      "metadata": {
        "id": "AZwsJVhIXq9c"
      },
      "source": [
        "我们可以看到候选词是有对应几率，所以之后会按分数，记录三个最高分数版本的BERT生成文本"
      ]
    },
    {
      "cell_type": "code",
      "metadata": {
        "id": "WeU1qgMQhuku"
      },
      "source": [
        "def mask_prediction(masked,prob):\n",
        "  r1 = []\n",
        "  for s1 in tqdm(masked):\n",
        "    r2 = ''\n",
        "    for s2 in s1.split('，'):\n",
        "      exp = unmasker(s2)\n",
        "      r2 += exp[prob]['sequence']+'，'\n",
        "    if r2.endswith('，'): #去掉最后的逗号\n",
        "        r2 = r2[:-1]\n",
        "    r1.append(r2)\n",
        "  return r1"
      ],
      "execution_count": null,
      "outputs": []
    },
    {
      "cell_type": "code",
      "metadata": {
        "colab": {
          "base_uri": "https://localhost:8080/",
          "height": 1000,
          "referenced_widgets": [
            "5a5f84b5a1434c59b5151bca765f3200",
            "bbe0b296990e414e9867a355be82f272",
            "348292732fe04cb68e9d9b3e82310d9c",
            "f3dc8bea35284732b93143b901dfa439",
            "78a1755d2a794253b5c9dc53784e7351",
            "b553a8e652b54438a991309a2bc44e6b",
            "7ead16224596408cbc49059d5f8a338e",
            "e98c7d30875f4a379ede2940181bc424"
          ]
        },
        "id": "Zm2TT_pBgRGQ",
        "outputId": "c41382c8-1db5-4231-fc52-6073f913f6ca"
      },
      "source": [
        "first = mask_prediction(masked,prob=0) #最高概率文本\n",
        "first "
      ],
      "execution_count": null,
      "outputs": [
        {
          "output_type": "display_data",
          "data": {
            "application/vnd.jupyter.widget-view+json": {
              "model_id": "5a5f84b5a1434c59b5151bca765f3200",
              "version_minor": 0,
              "version_major": 2
            },
            "text/plain": [
              "HBox(children=(FloatProgress(value=0.0, max=86.0), HTML(value='')))"
            ]
          },
          "metadata": {
            "tags": []
          }
        },
        {
          "output_type": "stream",
          "text": [
            "\n"
          ],
          "name": "stdout"
        },
        {
          "output_type": "execute_result",
          "data": {
            "text/plain": [
              "['阿 伟 ： 哈 耶，拜 托 你 好 弱 耶，你 现 在 知 道 谁 是 老 大 了 喔',\n",
              " '阿 妈 ： 阿 伟 你 又 在 打 电 动 。，休 息 一 下 吧，来 看 看 书 好 不 好',\n",
              " '阿 伟 ： 烦 。',\n",
              " '阿 妈 ： 我 在 跟 你 讲 话，有 没 有 听 到 ？',\n",
              " '阿 伟 ： 你 不 要 烦 我 不 好',\n",
              " '阿 妈 ： 我 才 说 你 两 句 你 就 说 我 烦，我 也 希 望 你 能 够 好 好 用 功 读 书，整 天 只 看 到 你 在 这 边 打 电 动',\n",
              " '阿 伟 ： ？，输 了 啦 ！，都 是 你 害 的 啦 ！，拜 托 ！',\n",
              " '阿 伟 ： 他 是 废 的',\n",
              " '彬 彬 ： 我 知 道 啊，之 前 我 就 干 掉 了 过',\n",
              " '阿 伟 ： 他 每 次 都 被 我 洗 战 绩 耶',\n",
              " '彬 彬 ： 他 就 是 啊',\n",
              " '（ 杰 哥 回 眸 ）',\n",
              " '阿 伟 ： 快 点 啦，我 看 到 了，左 边 左 边 。',\n",
              " '彬 彬 ： 走 了',\n",
              " '阿 伟 ： 上 面 上 面 右 边 左 边',\n",
              " '彬 彬 ： 你 不 要 放 诶',\n",
              " '（ 我 输 了 啊，快 点 放 下 ）',\n",
              " '（ 我 哭 了，不 要 哭 了 ）',\n",
              " '阿 伟 ： ？，你 不 要 每 次 都 这 样 好 不 好',\n",
              " '彬 彬 ： 不 想 玩 了 啦',\n",
              " '阿 伟 ： 你 还 有 没 有 钱 啊，我 肚 子 好 ！',\n",
              " '彬 彬 ： 没 有 啦，今 天 都 花 光 了',\n",
              " '阿 伟 ： 我 刚 刚 不 是 叫 你 多 带 一 点 吗',\n",
              " '彬 彬 ： 你 干 嘛 自 己 吃 多 带',\n",
              " '阿 伟 ： 你 不 要 每 次 都 这 样 好 不 好 啦',\n",
              " '彬 彬 ： 好 。，时 间 也 差 不 多 。',\n",
              " '（ 杰 哥 在 等 他 们 ）',\n",
              " '阿 伟 ： 阿 彬，我 好 饿 喔',\n",
              " '彬 彬 ： 我 们 两 个 都 有 钱 了',\n",
              " '阿 伟 ： 你 在 干 嘛',\n",
              " '彬 彬 ： 没 有 钱 我 们 只 能 搬 家',\n",
              " '阿 伟 ： 拜 托，我 才 不 要 回 家 。，我 阿 姨 超 凶 的 耶，去 住 你 家 啦',\n",
              " '彬 彬 ： 不 行 啊',\n",
              " '阿 伟 ： 为 什 么 不 ？',\n",
              " '彬 彬 ： 我 自 己 都 自 身 难 保 了，而 且 我 爸 会 揍 我',\n",
              " '（ 此 时 阿 杰 出 现 。',\n",
              " '阿 杰 ： 不 好 意 思，我 刚 听 到 你 们 两 个 说 肚 子 饿，我 这 里 刚 好 有 个 面 包 。，给 你 们 吃 （ 表 示 自 己 的 力 量，表 示 愿 意 帮 助 二 人 ），我 还 不 ！，来 ！，请 你 们 吃 （ 表 达 善 意 ）',\n",
              " '阿 伟 （ 小 声 ） ： 先 吃 先 吃',\n",
              " '阿 杰 ： 对 。，我 叫 阿 杰，我 也 常 来 这 里 。，他 们 都 叫 我 杰 哥 。，你 们 ！，有 一 个 人 住，我 的 肚 子 还 蛮 大 的，欢 迎 你 们 来 我 家 玩 。 玩 累 了 就 直 接 睡 。，没 问 题 的 。',\n",
              " '阿 伟 ： 你 觉 得 咧 ？',\n",
              " '彬 彬 ： 我 觉 得 怪 怪 的 。',\n",
              " '阿 伟 ： 看 起 来 就 是 个 很 奇 怪 的 人 啊',\n",
              " '彬 彬 ： 不 要 碰 他',\n",
              " '阿 杰 ： 我 常 常 帮 助 一 些 翘 家 的 人，如 果 你 们 不 要 来 的 话 。，也 没 有 关 系 ； 如 果 要 来 的 话，我 等 一 下 可 以 带 你 们 去 超 。，买 一 些 好 吃 的 喔 。 。',\n",
              " '阿 伟 ： 有 东 西 可 以 吃 。，要 不 要 去 啊 ？',\n",
              " '彬 彬 ： 是 啊，当 然 去 好 了 。',\n",
              " '阿 伟 ： 那 个 哥，我 跟 我 朋 友 今 天 就 去 你 家 住 啰',\n",
              " '阿 杰 ： 是 啊，没 问 题 啊，那 走 啊 。 我 们 现 在 就 去 超 商 买 一 些 吃 的 。',\n",
              " '阿 伟 / 彬 彬 ： 是 啊，走 走 走 。',\n",
              " '（ 大 商 里 ）',\n",
              " '阿 伟 ： 有 酒 。',\n",
              " '彬 彬 ： 不 要 看 酒 啦 先 买 饮 料 。 什 么 都 可 以 拿 吗 杰 杰 ？',\n",
              " '阿 杰 ： 都 可 以 拿，你 们 随 便 拿 。，随 便 拿 。，可 可 拿，都 拿 。',\n",
              " '阿 伟 ： 谢 谢 杰 哥',\n",
              " '（ 杰 哥 阿 里 ） 彬 彬 ： 啊，再 来 。，再 来 （ 昏 阙 ） 。',\n",
              " '阿 杰 ： 你 看 那 个 彬 彬，喝 几 罐 就 醉 了，真 的 太 逊 了',\n",
              " '阿 伟 ： 这 个 彬 彬 就 是 你 啦',\n",
              " '阿 杰 ： 听 你 这 么 说，你 好 勇 喔',\n",
              " '阿 伟 ： 开 玩 笑，我 超 勇 的 好 不 ？，我 不 会 喝 的 啦',\n",
              " '阿 杰 ： 超 会 ！，很 勇 嘛 。 身 材 蛮 不 错 喔，蛮 结 实 的 啊 。',\n",
              " '（ 说 着 说 着 阿 杰 拍 了 拍 阿 伟 的 大 腿 ）',\n",
              " '阿 伟 ： 杰 。，你 干 嘛 ？',\n",
              " '阿 杰 ： 都 几 岁 ？，还 那 么 害 ！，我 看 你 是 完 全 不 懂 喔',\n",
              " '阿 伟 ： ？，懂 什 么 ？',\n",
              " '阿 杰 ： 我 想 懂，我 房 里 有 一 些 健 康 的',\n",
              " '阿 伟 ： 好 康 有 新 游 戏 喔 ？',\n",
              " '阿 杰 ： 什 么 新 游 戏，比 游 戏 还 刺 激，还 可 以 叫 你，登 太 郎 喔',\n",
              " '阿 伟 ： 登 dua 咯 ？',\n",
              " '阿 杰 ： 是 啊，哈 啦，来 看 就 知 道 了',\n",
              " '阿 伟 ： 杰 。，。',\n",
              " '阿 杰 ： 睡 着，来 来 来 （ 阿 杰 屋 里 ）',\n",
              " '（ 阿 杰 拉 着 阿 伟 来 到 自 己 屋 里 ）',\n",
              " '阿 杰 ： 你 过 来',\n",
              " '阿 伟 ： 干 嘛 啊，。，杰 哥 你 有 好 多 片 喔',\n",
              " '阿 杰 ： 哎 ！，那 是 什 么，来 看 这 个 好 康 ！',\n",
              " '阿 伟 ： 杰 。，这 是 什 么 啊',\n",
              " '阿 杰 ： 哎 ！，你 脸 红 了，来 ！，让 我 看 看',\n",
              " '阿 伟 ： 不 要 啦 （ 拼 命 挣 扎 ）',\n",
              " '阿 杰 ： 让 我 看 看 。',\n",
              " '阿 伟 ： 不 要 啦，哥 哥，\" 干 嘛 啊',\n",
              " '阿 杰 ： 让 我 看 看 你 发 育 正 常 不 正 ？',\n",
              " '阿 伟 ： 杰 。，不 要 ！',\n",
              " '（ 阿 杰 摘 下 眼 镜，（ 印 杰 除 ）',\n",
              " '阿 杰 ： 听 。，让 我 看 看 ！ （ 声 色 俱 厉 ）',\n",
              " '阿 伟 ： 不 要 。',\n",
              " '阿 伟 ： 杰 哥 不 是 啊，哥 哥 不 要 啦，杰 哥 ！ ！ ！ 杰 哥 不 要 ！ ！ ！ 杰 哥 不 要 ！ ！ ！ ！']"
            ]
          },
          "metadata": {
            "tags": []
          },
          "execution_count": 64
        }
      ]
    },
    {
      "cell_type": "code",
      "metadata": {
        "colab": {
          "base_uri": "https://localhost:8080/",
          "height": 1000,
          "referenced_widgets": [
            "08518b14ee4b4876b4f4df3df09d1b5c",
            "2ce80f22ec2c454e849a8774feddc281",
            "6830a5f2fed6444dbab63ec5161799cc",
            "7f745283cee74dd68062a064eb889f3d",
            "0d174c7488934bed81959d809e38c825",
            "c56eb38b94ea45fa96c4b12b278e1312",
            "f3509a22de0a4151a82cb25e0562239a",
            "cc0f4d445c9f46109c64dfbc292d393e"
          ]
        },
        "id": "doUFNL6yh0sa",
        "outputId": "e2b9a20f-6be6-4e36-bcdf-e6ee625efa88"
      },
      "source": [
        "second = mask_prediction(masked,prob=1) #第二高概率文本\n",
        "second"
      ],
      "execution_count": null,
      "outputs": [
        {
          "output_type": "display_data",
          "data": {
            "application/vnd.jupyter.widget-view+json": {
              "model_id": "08518b14ee4b4876b4f4df3df09d1b5c",
              "version_minor": 0,
              "version_major": 2
            },
            "text/plain": [
              "HBox(children=(FloatProgress(value=0.0, max=86.0), HTML(value='')))"
            ]
          },
          "metadata": {
            "tags": []
          }
        },
        {
          "output_type": "stream",
          "text": [
            "\n"
          ],
          "name": "stdout"
        },
        {
          "output_type": "execute_result",
          "data": {
            "text/plain": [
              "['阿 伟 ： 哈 耶，拜 托 你 好 弱 耶，你 现 在 知 道 谁 是 老 大 了 喔',\n",
              " '阿 妈 ： 阿 伟 你 又 在 打 电 动 。，休 息 一 下 吧，来 看 看 书 好 不 好',\n",
              " '阿 伟 ： 烦 。',\n",
              " '阿 妈 ： 我 在 跟 你 讲 话，有 没 有 听 到 ？',\n",
              " '阿 伟 ： 你 不 要 烦 我 不 好',\n",
              " '阿 妈 ： 我 才 说 你 两 句 你 就 说 我 烦，我 也 希 望 你 能 够 好 好 用 功 读 书，整 天 只 看 到 你 在 这 边 打 电 动',\n",
              " '阿 伟 ： ？，输 了 啦 ！，都 是 你 害 的 啦 ！，拜 托 ！',\n",
              " '阿 伟 ： 他 是 废 的',\n",
              " '彬 彬 ： 我 知 道 啊，之 前 我 就 干 掉 了 过',\n",
              " '阿 伟 ： 他 每 次 都 被 我 洗 战 绩 耶',\n",
              " '彬 彬 ： 他 就 是 啊',\n",
              " '（ 杰 哥 回 眸 ）',\n",
              " '阿 伟 ： 快 点 啦，我 看 到 了，左 边 左 边 。',\n",
              " '彬 彬 ： 走 了',\n",
              " '阿 伟 ： 上 面 上 面 右 边 左 边',\n",
              " '彬 彬 ： 你 不 要 放 诶',\n",
              " '（ 我 输 了 啊，快 点 放 下 ）',\n",
              " '（ 我 哭 了，不 要 哭 了 ）',\n",
              " '阿 伟 ： ？，你 不 要 每 次 都 这 样 好 不 好',\n",
              " '彬 彬 ： 不 想 玩 了 啦',\n",
              " '阿 伟 ： 你 还 有 没 有 钱 啊，我 肚 子 好 ！',\n",
              " '彬 彬 ： 没 有 啦，今 天 都 花 光 了',\n",
              " '阿 伟 ： 我 刚 刚 不 是 叫 你 多 带 一 点 吗',\n",
              " '彬 彬 ： 你 干 嘛 自 己 吃 多 带',\n",
              " '阿 伟 ： 你 不 要 每 次 都 这 样 好 不 好 啦',\n",
              " '彬 彬 ： 好 。，时 间 也 差 不 多 。',\n",
              " '（ 杰 哥 在 等 他 们 ）',\n",
              " '阿 伟 ： 阿 彬，我 好 饿 喔',\n",
              " '彬 彬 ： 我 们 两 个 都 有 钱 了',\n",
              " '阿 伟 ： 你 在 干 嘛',\n",
              " '彬 彬 ： 没 有 钱 我 们 只 能 搬 家',\n",
              " '阿 伟 ： 拜 托，我 才 不 要 回 家 。，我 阿 姨 超 凶 的 耶，去 住 你 家 啦',\n",
              " '彬 彬 ： 不 行 啊',\n",
              " '阿 伟 ： 为 什 么 不 ？',\n",
              " '彬 彬 ： 我 自 己 都 自 身 难 保 了，而 且 我 爸 会 揍 我',\n",
              " '（ 此 时 阿 杰 出 现 。',\n",
              " '阿 杰 ： 不 好 意 思，我 刚 听 到 你 们 两 个 说 肚 子 饿，我 这 里 刚 好 有 个 面 包 。，给 你 们 吃 （ 表 示 自 己 的 力 量，表 示 愿 意 帮 助 二 人 ），我 还 不 ！，来 ！，请 你 们 吃 （ 表 达 善 意 ）',\n",
              " '阿 伟 （ 小 声 ） ： 先 吃 先 吃',\n",
              " '阿 杰 ： 对 。，我 叫 阿 杰，我 也 常 来 这 里 。，他 们 都 叫 我 杰 哥 。，你 们 ！，有 一 个 人 住，我 的 肚 子 还 蛮 大 的，欢 迎 你 们 来 我 家 玩 。 玩 累 了 就 直 接 睡 。，没 问 题 的 。',\n",
              " '阿 伟 ： 你 觉 得 咧 ？',\n",
              " '彬 彬 ： 我 觉 得 怪 怪 的 。',\n",
              " '阿 伟 ： 看 起 来 就 是 个 很 奇 怪 的 人 啊',\n",
              " '彬 彬 ： 不 要 碰 他',\n",
              " '阿 杰 ： 我 常 常 帮 助 一 些 翘 家 的 人，如 果 你 们 不 要 来 的 话 。，也 没 有 关 系 ； 如 果 要 来 的 话，我 等 一 下 可 以 带 你 们 去 超 。，买 一 些 好 吃 的 喔 。 。',\n",
              " '阿 伟 ： 有 东 西 可 以 吃 。，要 不 要 去 啊 ？',\n",
              " '彬 彬 ： 是 啊，当 然 去 好 了 。',\n",
              " '阿 伟 ： 那 个 哥，我 跟 我 朋 友 今 天 就 去 你 家 住 啰',\n",
              " '阿 杰 ： 是 啊，没 问 题 啊，那 走 啊 。 我 们 现 在 就 去 超 商 买 一 些 吃 的 。',\n",
              " '阿 伟 / 彬 彬 ： 是 啊，走 走 走 。',\n",
              " '（ 大 商 里 ）',\n",
              " '阿 伟 ： 有 酒 。',\n",
              " '彬 彬 ： 不 要 看 酒 啦 先 买 饮 料 。 什 么 都 可 以 拿 吗 杰 杰 ？',\n",
              " '阿 杰 ： 都 可 以 拿，你 们 随 便 拿 。，随 便 拿 。，可 可 拿，都 拿 。',\n",
              " '阿 伟 ： 谢 谢 杰 哥',\n",
              " '（ 杰 哥 阿 里 ） 彬 彬 ： 啊，再 来 。，再 来 （ 昏 阙 ） 。',\n",
              " '阿 杰 ： 你 看 那 个 彬 彬，喝 几 罐 就 醉 了，真 的 太 逊 了',\n",
              " '阿 伟 ： 这 个 彬 彬 就 是 你 啦',\n",
              " '阿 杰 ： 听 你 这 么 说，你 好 勇 喔',\n",
              " '阿 伟 ： 开 玩 笑，我 超 勇 的 好 不 ？，我 不 会 喝 的 啦',\n",
              " '阿 杰 ： 超 会 ！，很 勇 嘛 。 身 材 蛮 不 错 喔，蛮 结 实 的 啊 。',\n",
              " '（ 说 着 说 着 阿 杰 拍 了 拍 阿 伟 的 大 腿 ）',\n",
              " '阿 伟 ： 杰 。，你 干 嘛 ？',\n",
              " '阿 杰 ： 都 几 岁 ？，还 那 么 害 ！，我 看 你 是 完 全 不 懂 喔',\n",
              " '阿 伟 ： ？，懂 什 么 ？',\n",
              " '阿 杰 ： 我 想 懂，我 房 里 有 一 些 健 康 的',\n",
              " '阿 伟 ： 好 康 有 新 游 戏 喔 ？',\n",
              " '阿 杰 ： 什 么 新 游 戏，比 游 戏 还 刺 激，还 可 以 叫 你，登 太 郎 喔',\n",
              " '阿 伟 ： 登 dua 咯 ？',\n",
              " '阿 杰 ： 是 啊，哈 啦，来 看 就 知 道 了',\n",
              " '阿 伟 ： 杰 。，。',\n",
              " '阿 杰 ： 睡 着，来 来 来 （ 阿 杰 屋 里 ）',\n",
              " '（ 阿 杰 拉 着 阿 伟 来 到 自 己 屋 里 ）',\n",
              " '阿 杰 ： 你 过 来',\n",
              " '阿 伟 ： 干 嘛 啊，。，杰 哥 你 有 好 多 片 喔',\n",
              " '阿 杰 ： 哎 ！，那 是 什 么，来 看 这 个 好 康 ！',\n",
              " '阿 伟 ： 杰 。，这 是 什 么 啊',\n",
              " '阿 杰 ： 哎 ！，你 脸 红 了，来 ！，让 我 看 看',\n",
              " '阿 伟 ： 不 要 啦 （ 拼 命 挣 扎 ）',\n",
              " '阿 杰 ： 让 我 看 看 。',\n",
              " '阿 伟 ： 不 要 啦，哥 哥，\" 干 嘛 啊',\n",
              " '阿 杰 ： 让 我 看 看 你 发 育 正 常 不 正 ？',\n",
              " '阿 伟 ： 杰 。，不 要 ！',\n",
              " '（ 阿 杰 摘 下 眼 镜，（ 印 杰 除 ）',\n",
              " '阿 杰 ： 听 。，让 我 看 看 ！ （ 声 色 俱 厉 ）',\n",
              " '阿 伟 ： 不 要 。',\n",
              " '阿 伟 ： 杰 哥 不 是 啊，哥 哥 不 要 啦，杰 哥 ！ ！ ！ 杰 哥 不 要 ！ ！ ！ 杰 哥 不 要 ！ ！ ！ ！']"
            ]
          },
          "metadata": {
            "tags": []
          },
          "execution_count": 65
        }
      ]
    },
    {
      "cell_type": "code",
      "metadata": {
        "colab": {
          "base_uri": "https://localhost:8080/",
          "height": 1000,
          "referenced_widgets": [
            "522a6835bdac49e3a2e1de4b3dd72fdd",
            "3dbe1121560d4c8584d8d1a4068da50f",
            "57cafa67cea649b9bd25a1b89b02024d",
            "ba7ae9f190264f4ba82745824eed8ffa",
            "a3d8fde1115342198ec563a459ed76cc",
            "323845beef89482c998e78d05564d6d3",
            "db2d223bb5a848218f01d1f0b5a8e303",
            "1278f09b3a9345408f96d1f16a7c8f36"
          ]
        },
        "id": "DzaLzF4hh306",
        "outputId": "29169ad0-5126-40b9-c35e-9890feab2816"
      },
      "source": [
        "third = mask_prediction(masked,prob=3) #第三高概率文本\n",
        "third"
      ],
      "execution_count": null,
      "outputs": [
        {
          "output_type": "display_data",
          "data": {
            "application/vnd.jupyter.widget-view+json": {
              "model_id": "522a6835bdac49e3a2e1de4b3dd72fdd",
              "version_minor": 0,
              "version_major": 2
            },
            "text/plain": [
              "HBox(children=(FloatProgress(value=0.0, max=86.0), HTML(value='')))"
            ]
          },
          "metadata": {
            "tags": []
          }
        },
        {
          "output_type": "stream",
          "text": [
            "\n"
          ],
          "name": "stdout"
        },
        {
          "output_type": "execute_result",
          "data": {
            "text/plain": [
              "['阿 伟 ： 耶 耶，拜 托 你 很 弱 耶，你 都 在 知 道 谁 是 老 大 了 喔',\n",
              " '阿 妈 ： 阿 伟 你 又 在 打 电 动...，休 息 ㄧ 下 吧，多 看 看 书 好 不 好',\n",
              " '阿 伟 ： 烦...',\n",
              " '阿 妈 ： 是 在 跟 你 讲 话，有 没 有 听 到 ，',\n",
              " '阿 伟 ： 你 不 要 烦 了 不 好',\n",
              " '阿 妈 ： 他 才 说 你 两 句 你 就 说 我 烦，我 只 希 望 你 能 够 好 好 用 功 读 书，整 天 只 看 看 你 在 这 边 打 电 动',\n",
              " '阿 伟 ：...，输 了 啦 ，，都 是 你 害 的 啦 ，，拜 托 ，',\n",
              " '阿 伟 ： 他 要 废 的',\n",
              " '彬 彬 ： 我 难 道 啊，之 前 我 就 干 掉 她 过',\n",
              " '阿 伟 ： 他 几 次 都 被 我 洗 战 绩 耶',\n",
              " '彬 彬 ： 他 就 在 啊',\n",
              " '张 杰 哥 回 眸 ）',\n",
              " '阿 伟 ： 快 乐 啦，我 找 到 了，左 边 左 边...',\n",
              " '彬 彬 ： 来 了',\n",
              " '阿 伟 ： 上 面 上 面 上 边 左 边',\n",
              " '彬 彬 ： 你 不 会 放 诶',\n",
              " '（ 我 输 球 啊，快 点 放 假 ）',\n",
              " '（ 我 走 了，不 要 說 了 ）',\n",
              " '阿 伟 ：...，你 不 想 每 次 都 这 样 好 不 好',\n",
              " '彬 彬 ： 不 想 玩 啊 啦',\n",
              " '阿 伟 ： 他 还 有 没 有 钱 啊，我 肚 子 好 ，',\n",
              " '彬 彬 ： 没 用 啦，今 天 都 花 錢 了',\n",
              " '阿 伟 ： 我 刚 刚 不 是 叫 你 们 带 一 点 吗',\n",
              " '彬 彬 ： 你 干 嘛 自 己 想 多 带',\n",
              " '阿 伟 ： 你 不 用 每 次 都 这 样 好 不 好 啦',\n",
              " '彬 彬 ： 好 ，，时 间 也 差 不 多 ，',\n",
              " '杰 杰 哥 在 等 他 们 ）',\n",
              " '阿 伟 ： 郑 彬，「 好 饿 喔',\n",
              " '彬 彬 ： 我 们 两 个 都 赚 钱 了',\n",
              " '阿 伟 ： 你 来 干 嘛',\n",
              " '彬 彬 ： 没 有 钱 我 们 只 能 卖 家',\n",
              " '阿 伟 ： 阿 托，我 才 不 要 回 家 ，，我 阿 伯 超 凶 的 耶，去 住 你 的 啦',\n",
              " '彬 彬 ： 我 行 啊',\n",
              " '阿 伟 ： 为 什 么 不?',\n",
              " '彬 彬 ： 我 自 家 都 自 身 难 保 了，而 我 我 爸 会 揍 我',\n",
              " '（ 此 时 阿 杰 出 现 ）',\n",
              " '阿 杰 ： 很 好 意 思，我 刚 碰 到 你 们 两 个 说 肚 子 饿，我 这 里 刚 好 有 个 面 包 ，，给 你 们 吃 （ 暗 示 自 己 的 力 量，表 示 愿 意 帮 助 二 叔 ），我 还 不 ，，来 ，，请 你 们 吃 醋 表 达 善 意 ）',\n",
              " '阿 伟 （ 小 声 音 ： 先 吃 先 吃',\n",
              " '阿 杰 ： 对 ，，我 的 阿 杰，我 也 常 来 这 里 ，，他 们 都 叫 我 杰 哥 ，，你 们 ，，第 一 个 人 住，我 的 脑 子 还 蛮 大 的，欢 迎 你 们 来 我 家 玩 。 玩 累 了 就 直 接 睡 ，，没 问 你 的 。',\n",
              " '阿 伟 ： 你 懂 得 咧 ？',\n",
              " '彬 彬 ： 我 笑 得 怪 怪 的 。',\n",
              " '阿 伟 ： 笑 起 来 就 是 个 很 奇 怪 的 人 啊',\n",
              " '彬 彬 ： 不 要 ， 他',\n",
              " '阿 杰 ： 我 常 想 帮 助 一 些 翘 家 的 人，如 果 你 们 不 要 来 的 话 ，，也 没 有 关 系 ； 如 我 要 来 的 话，我 等 一 下 可 以 带 你 们 去 超 市，买 一 些 好 吃 的 喔 。 \"',\n",
              " '阿 伟 ： 有 东 西 可 以 吃 ，，要 不 要 我 啊 ？',\n",
              " '彬 彬 ： 嗯 啊，不 然 去 好 了 。',\n",
              " '阿 伟 ： 那 好 哥，我 跟 我 朋 友 今 年 就 去 你 家 住 啰',\n",
              " '阿 杰 ： 嗯 啊，没 话 题 啊，那 走 啊 。 我 们 现 在 就 去 超 商 买 一 些 好 的 。',\n",
              " '阿 伟 / 彬 彬 ： 啊 啊，走 走 走 ，',\n",
              " '（ 兴 商 里 ）',\n",
              " '阿 伟 ： 有 酒 ，',\n",
              " '彬 彬 ： 不 要 看 酒 啦 先 买 饮 料 。 什 么 都 可 以 拿 吗 杰 克 ？',\n",
              " '阿 杰 ： 都 可 用 拿，你 们 随 便 拿 ，，随 便 拿 ，，可 羅 拿，都 拿 ，',\n",
              " '阿 伟 ： 謝 谢 杰 哥',\n",
              " '（ 杰 哥 哈 里 ） 彬 彬 ： 啊，再 来 ，，再 来 （ 昏 阙 ） ，',\n",
              " '阿 杰 ： 你 看 一 个 彬 彬，买 几 罐 就 醉 了，来 的 太 逊 了',\n",
              " '阿 伟 ： 这 个 彬 彬 就 是 他 啦',\n",
              " '阿 杰 ： 听 您 这 么 说，你 多 勇 喔',\n",
              " '阿 伟 ： 破 玩 笑，我 超 勇 的 好 不 好，我 是 会 喝 的 啦',\n",
              " '阿 杰 ： 超 会 ，，很 勇 嘛 。 食 材 蛮 不 错 喔，蛮 结 巴 的 啊 。',\n",
              " '） 说 着 说 着 阿 杰 拍 了 拍 阿 伟 的 大 腿 ）',\n",
              " '阿 伟 ： 杰...，你 干 嘛 ，',\n",
              " '阿 杰 ： 都 几 岁?，还 那 么 害 ，，我 看 你 是 根 全 不 懂 喔',\n",
              " '阿 伟 ：...，懂 什 么 ，',\n",
              " '阿 杰 ： 好 想 懂，我 房 里 有 一 些 尼 康 的',\n",
              " '阿 伟 ： 好 康 是 新 游 戏 喔 ？',\n",
              " '阿 杰 ： 什 幺 新 游 戏，的 游 戏 还 刺 激，还 难 以 叫 你，登 吉 郎 喔',\n",
              " '阿 伟 ： 登 dua 呢 ？',\n",
              " '阿 杰 ： 嗯 啊，哇 啦，来 看 就 懂 道 了',\n",
              " '阿 伟 ： 杰...，\"',\n",
              " '阿 杰 ： 活 着，来 呀 来 （ 阿 杰 屋 里 ）',\n",
              " '（ 阿 杰 拉 着 志 伟 来 到 自 己 屋 里 ）',\n",
              " '阿 杰 ： 快 过 来',\n",
              " '阿 伟 ： 嘛 嘛 啊，\"，杰 ： 你 有 好 多 片 喔',\n",
              " '阿 杰 ： 哎...，那 些 什 么，来 看 这 个 好 康 ：',\n",
              " '阿 伟 ： 杰...，这 是 啥 么 啊',\n",
              " '阿 杰 ： 哎...，你 变 红 了，来 ，，让 她 看 看',\n",
              " '阿 伟 ： 不 要 啦 （ 拼 劲 挣 扎 ）',\n",
              " '阿 杰 ： 让 我 看 看 ，',\n",
              " '阿 伟 ： 你 要 啦，二 哥，「 干 嘛 啊',\n",
              " '阿 杰 ： 让 我 看 看 你 发 育 正 常 不 正 吗',\n",
              " '阿 伟 ： 杰...，不 要 ，',\n",
              " '（ 阿 杰 卸 下 眼 镜，李 印 杰 除 ）',\n",
              " '阿 杰 ： 听 ，，让 我 看 看 ！ （ 声 同 俱 厉 ）',\n",
              " '阿 伟 ： 不 要 ，',\n",
              " '阿 伟 ： 杰 哥 不 要 啊，帥 哥 不 要 啦，杰 哥 ！ ！ ！ 杰 哥 不 要 ！ ！ ！ 杰 哥 不 要 ？ ！ ！ ！']"
            ]
          },
          "metadata": {
            "tags": []
          },
          "execution_count": 66
        }
      ]
    },
    {
      "cell_type": "markdown",
      "metadata": {
        "id": "55UD2K8gjCxg"
      },
      "source": [
        "人工对比过原文和三篇生成文章，发现以下三个特点:\n",
        "\n",
        "\n",
        "1.   如果遮罩字词没有前后的字词，如:\"[MASK]，\",最高概率文本填充为\"?\"和\"...\"\n",
        "2.   不能预测日常称呼，如:\"杰[MASK]，\",最高概率文本填充为\"。\",理论是\"哥\"/\"弟\"/~~\"姐\"~~\n",
        "\n",
        "3.   目前按标点分句的结果不理想，可能是因为短句太难推理出全文，如: '**我**一个人住，我的**房子**还蛮大的'->'**有** 一 个 人 住，我 的 **肚 子** 还 蛮 大 的'<br>\n",
        "\n",
        "总而言之，如果想要胡说八道，直接取最小概率的预测字词做文本遮罩填充便可。相反，倘若追求上文下理的文笔通顺，目前全文生成比遮罩预测更有效。\n",
        "\n",
        "\n",
        "\n"
      ]
    },
    {
      "cell_type": "markdown",
      "metadata": {
        "id": "lpVrdTmxlF3N"
      },
      "source": [
        "# 保存文本"
      ]
    },
    {
      "cell_type": "code",
      "metadata": {
        "id": "yUdqh_zsukD9"
      },
      "source": [
        "def save_txt(filename, data):\n",
        "    file = open(filename,'a') \n",
        "    for d in tqdm(data): \n",
        "        file.writelines(d+'\\n') \n",
        "    file.close() "
      ],
      "execution_count": null,
      "outputs": []
    },
    {
      "cell_type": "code",
      "metadata": {
        "colab": {
          "base_uri": "https://localhost:8080/",
          "height": 164,
          "referenced_widgets": [
            "ce78932a5a5c4f7ba3441a78188c4eda",
            "0f8ee07ee8e140fab6fb3cff3ac99587",
            "544ea066960247a09562f7a4867df257",
            "8b14020528cf4233b8f58d9e7820bbc0",
            "b7e80d4f6ec8423589a3e7ddec663217",
            "7ffa6e25415d481e8a65fdb5a4ce4ba2",
            "932c3920b1a048f5bd845594a671ed28",
            "199b3b20f002422eb361ba284c6cb4e4",
            "d2baa83ccda34efd8d54148743fca816",
            "4d2e378e91ed47da9f81b1edb7ddf8c4",
            "a06a8054b12542e4b32a6a92ced1fb14",
            "f66bbf22b852436eb108af64009d654c",
            "94dacb0909da48ba84bae283f2d132db",
            "4ab57be2547b41a2ad636f5907e7c2a1",
            "f8ded26a43244b018d8986b459e44330",
            "273e22c1f84a4c9d8fbee4fe8ea9f5d0",
            "3af2e9b438b14178ac3dd99c90199a71",
            "3f02884489e348aa9323ac1d29b7ee70",
            "ee4972f613e54cd98c10e665ea5f87e9",
            "660caac3749449c6aa60fe617c718d44",
            "c3a39078f0544aaf879a7985ff43f023",
            "5bcf4f6d32f9452cb19d674ee14766bc",
            "500b0a86e93e46b1816474a8cbe3f912",
            "bbc02d18fb5d4d62a5478d89fc0d1b34"
          ]
        },
        "id": "Bga6Zwpzu77E",
        "outputId": "265b78aa-6c22-49ff-8a8e-36339f11f85b"
      },
      "source": [
        "path = '/content/drive/MyDrive/NLP_Project/sub/'\n",
        "save_txt(path+'JiegeStop-BERT-WMM-1st.txt',first)\n",
        "save_txt(path+'JiegeStop-BERT-WMM-2nd.txt',second)\n",
        "save_txt(path+'JiegeStop-BERT-WMM-3rd.txt',third)"
      ],
      "execution_count": null,
      "outputs": [
        {
          "output_type": "display_data",
          "data": {
            "application/vnd.jupyter.widget-view+json": {
              "model_id": "ce78932a5a5c4f7ba3441a78188c4eda",
              "version_minor": 0,
              "version_major": 2
            },
            "text/plain": [
              "HBox(children=(FloatProgress(value=0.0, max=86.0), HTML(value='')))"
            ]
          },
          "metadata": {
            "tags": []
          }
        },
        {
          "output_type": "stream",
          "text": [
            "\n"
          ],
          "name": "stdout"
        },
        {
          "output_type": "display_data",
          "data": {
            "application/vnd.jupyter.widget-view+json": {
              "model_id": "d2baa83ccda34efd8d54148743fca816",
              "version_minor": 0,
              "version_major": 2
            },
            "text/plain": [
              "HBox(children=(FloatProgress(value=0.0, max=86.0), HTML(value='')))"
            ]
          },
          "metadata": {
            "tags": []
          }
        },
        {
          "output_type": "stream",
          "text": [
            "\n"
          ],
          "name": "stdout"
        },
        {
          "output_type": "display_data",
          "data": {
            "application/vnd.jupyter.widget-view+json": {
              "model_id": "3af2e9b438b14178ac3dd99c90199a71",
              "version_minor": 0,
              "version_major": 2
            },
            "text/plain": [
              "HBox(children=(FloatProgress(value=0.0, max=86.0), HTML(value='')))"
            ]
          },
          "metadata": {
            "tags": []
          }
        },
        {
          "output_type": "stream",
          "text": [
            "\n"
          ],
          "name": "stdout"
        }
      ]
    },
    {
      "cell_type": "markdown",
      "metadata": {
        "id": "zDsryrgmkO5G"
      },
      "source": [
        "# 结论\n",
        "使用第三高分数作填充字词还是挺鬼畜，例如:''阿 杰 ： 好 想 懂，我 房 里 有 一 些 尼 康 的'和 '（ 我 输 球 啊，快 点 放 假 ）'等，有兴趣的小伙伴们可以用来创作。\n",
        "\n",
        "预训练模型是有极限的，并没有突破碳基生物的思维框架，如果有非碳基生物的文本作训练，或者在鬼畜区能带来意想不到的可能性。"
      ]
    }
  ]
}